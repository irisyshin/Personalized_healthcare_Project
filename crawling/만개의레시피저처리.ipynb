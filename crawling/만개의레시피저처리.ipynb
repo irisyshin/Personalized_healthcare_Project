{
 "cells": [
  {
   "cell_type": "code",
   "execution_count": 1,
   "id": "bacff6b4",
   "metadata": {},
   "outputs": [
    {
     "name": "stdout",
     "output_type": "stream",
     "text": [
      "📂 병합할 파일 목록:\n",
      " - recipes_over100k_국_탕.csv\n",
      " - recipes_over100k_기타.csv\n",
      " - recipes_over100k_메인반찬.csv\n",
      " - recipes_over100k_면_만두.csv\n",
      " - recipes_over100k_밑반찬.csv\n",
      " - recipes_over100k_밥_죽_떡.csv\n",
      " - recipes_over100k_샐러드.csv\n",
      " - recipes_over100k_스프.csv\n",
      " - recipes_over100k_양식.csv\n",
      " - recipes_over100k_찌개.csv\n",
      " - recipes_over100k_퓨전.csv\n",
      "\n",
      "✅ 병합 완료! 총 1442개 레시피 → recipes_over100k_all.csv\n"
     ]
    }
   ],
   "source": [
    "import pandas as pd\n",
    "import glob\n",
    "\n",
    "# 1️⃣ 현재 폴더의 모든 'recipes_over100k_' 로 시작하는 CSV 파일 불러오기\n",
    "csv_files = glob.glob(\"recipes_over100k_*.csv\")\n",
    "\n",
    "# 2️⃣ 파일 확인\n",
    "print(\"📂 병합할 파일 목록:\")\n",
    "for f in csv_files:\n",
    "    print(\" -\", f)\n",
    "\n",
    "# 3️⃣ 파일 읽어서 하나의 DataFrame으로 합치기\n",
    "dfs = [pd.read_csv(f) for f in csv_files]\n",
    "merged_df = pd.concat(dfs, ignore_index=True)\n",
    "\n",
    "# 4️⃣ 중복 제거 (같은 RECIPE_ID가 여러 카테고리에 있을 수 있음)\n",
    "merged_df.drop_duplicates(subset=[\"RECIPE_ID\"], inplace=True)\n",
    "\n",
    "# 5️⃣ 최종 CSV 저장\n",
    "output_name = \"recipes_over100k_all.csv\"\n",
    "merged_df.to_csv(output_name, index=False, encoding=\"utf-8-sig\")\n",
    "\n",
    "print(f\"\\n✅ 병합 완료! 총 {len(merged_df)}개 레시피 → {output_name}\")\n"
   ]
  },
  {
   "cell_type": "code",
   "execution_count": 19,
   "id": "3e43a448",
   "metadata": {},
   "outputs": [
    {
     "name": "stdout",
     "output_type": "stream",
     "text": [
      "✅ IRDNT_CODE 추가 완료! 총 1442개 레시피 → recipes_over100k_all_with_IRDNT.csv\n"
     ]
    }
   ],
   "source": [
    "import pandas as pd\n",
    "import ast  # 문자열 딕셔너리 파싱용\n",
    "\n",
    "# ✅ 분류 기준\n",
    "INGREDIENT_KEYWORDS = {\n",
    "    \"소고기\": \"소고기류\", \"쇠고기\": \"소고기류\", \"양지\": \"소고기류\",\n",
    "    \"돼지고기\": \"돼지고기류\", \"삼겹살\": \"돼지고기류\", \"목살\": \"돼지고기류\",\n",
    "    \"닭\": \"닭고기류\", \"오리\": \"닭고기류\",\n",
    "    \"새우\": \"해물류\", \"오징어\": \"해물류\", \"조개\": \"해물류\",\n",
    "    \"굴\": \"해물류\", \"멸치\": \"해물류\", \"참치\": \"해물류\",\n",
    "    \"채소\": \"채소류\", \"양파\": \"채소류\", \"당근\": \"채소류\",\n",
    "    \"감자\": \"채소류\", \"버섯\": \"버섯류\", \"두부\": \"콩/견과류\",\n",
    "}\n",
    "\n",
    "PRIORITY = [\n",
    "    (\"소고기\", \"소고기류\"), (\"쇠고기\", \"소고기류\"), (\"양지\", \"소고기류\"),\n",
    "    (\"돼지고기\", \"돼지고기류\"), (\"삼겹살\", \"돼지고기류\"),\n",
    "    (\"닭\", \"닭고기류\"), (\"오리\", \"닭고기류\"),\n",
    "    (\"새우\", \"해물류\"), (\"오징어\", \"해물류\"), (\"조개\", \"해물류\"),\n",
    "    (\"굴\", \"해물류\"), (\"멸치\", \"해물류\"), (\"참치\", \"해물류\"),\n",
    "]\n",
    "\n",
    "# ✅ 1️⃣ CSV 불러오기 (병합된 파일 경로 입력)\n",
    "df = pd.read_csv(\"recipes_over100k_all.csv\")\n",
    "\n",
    "# ✅ 2️⃣ IRDNT_CODE 분류 함수\n",
    "def classify_ingredient(ingredient_text):\n",
    "    try:\n",
    "        ingredients = ast.literal_eval(ingredient_text.replace(\"'\", '\"'))  # 문자열 → dict\n",
    "        names = ingredients.keys()\n",
    "    except Exception:\n",
    "        return \"기타\"\n",
    "\n",
    "    # 1️⃣ 우선순위 그룹 먼저 확인\n",
    "    for keyword, category in PRIORITY:\n",
    "        if any(keyword in name for name in names):\n",
    "            return category\n",
    "\n",
    "    # 2️⃣ 일반 키워드 검색\n",
    "    for name in names:\n",
    "        for keyword, category in INGREDIENT_KEYWORDS.items():\n",
    "            if keyword in name:\n",
    "                return category\n",
    "\n",
    "    # 3️⃣ 해당 없으면 기타\n",
    "    return \"기타\"\n",
    "\n",
    "# ✅ 3️⃣ IRDNT_CODE 생성\n",
    "df[\"IRDNT_CODE\"] = df[\"INGREDIENT_FULL\"].apply(classify_ingredient)\n",
    "\n",
    "# ✅ 4️⃣ 컬럼 순서 재정렬\n",
    "cols = [\n",
    "    \"RECIPE_ID\", \"RECIPE_NM_KO\", \"SUMRY\", \"SERVINGS\", \"TY_NM\",\n",
    "    \"COOKING_TIME\", \"LEVEL_NM\", \"IRDNT_CODE\",\n",
    "    \"INGREDIENT_FULL\", \"STEP_TEXT\", \"STEP_TIP\"\n",
    "]\n",
    "df = df[cols]\n",
    "\n",
    "# ✅ 5️⃣ 저장\n",
    "#df.to_csv(\"recipes_over100k_all_with_IRDNT.csv\", index=False, encoding=\"utf-8-sig\")\n",
    "\n",
    "print(f\"✅ IRDNT_CODE 추가 완료! 총 {len(df)}개 레시피 → recipes_over100k_all_with_IRDNT.csv\")\n"
   ]
  },
  {
   "cell_type": "code",
   "execution_count": 2,
   "id": "f646b53d",
   "metadata": {},
   "outputs": [],
   "source": [
    "# 파일 경로\n",
    "import pandas as pd\n",
    "df = pd.read_csv(\"recipes_over100k_all_with_IRDNT.csv\", encoding='utf-8-sig')  # 한글 CSV는 utf-8"
   ]
  },
  {
   "cell_type": "code",
   "execution_count": 5,
   "id": "266813d3",
   "metadata": {},
   "outputs": [
    {
     "name": "stdout",
     "output_type": "stream",
     "text": [
      "['하' '상']\n"
     ]
    }
   ],
   "source": [
    "import pandas as pd\n",
    "\n",
    "# 예시 DataFrame\n",
    "# df = pd.DataFrame({'LEVEL_NM': ['아무나', '초급', '중급', '고급', '초급']})\n",
    "\n",
    "# 1️⃣ 매핑 딕셔너리 정의\n",
    "level_map = {\n",
    "    '아무나': '하',\n",
    "    '초급': '하',\n",
    "    '중급': '상',\n",
    "    '고급': '상'\n",
    "}\n",
    "\n",
    "# 2️⃣ 값 변환\n",
    "df['LEVEL_NM'] = df['LEVEL_NM'].map(level_map)\n",
    "\n",
    "# 3️⃣ 결과 확인\n",
    "print(df['LEVEL_NM'].unique())\n"
   ]
  },
  {
   "cell_type": "code",
   "execution_count": 3,
   "id": "0b64deec",
   "metadata": {},
   "outputs": [
    {
     "name": "stdout",
     "output_type": "stream",
     "text": [
      "['아무나' '초급' '중급' '고급']\n",
      "['해물류' '기타' '소고기류' '닭고기류' '채소류' '콩/견과류' '버섯류' '돼지고기류']\n"
     ]
    }
   ],
   "source": [
    "print(df['LEVEL_NM'].unique())      # 난이도 이름 목록\n",
    "print(df['IRDNT_CODE'].unique())    # 재료 코드 목록"
   ]
  },
  {
   "cell_type": "code",
   "execution_count": null,
   "id": "990aa48f",
   "metadata": {},
   "outputs": [],
   "source": []
  },
  {
   "cell_type": "code",
   "execution_count": 4,
   "id": "d103f168",
   "metadata": {},
   "outputs": [
    {
     "data": {
      "text/html": [
       "<div>\n",
       "<style scoped>\n",
       "    .dataframe tbody tr th:only-of-type {\n",
       "        vertical-align: middle;\n",
       "    }\n",
       "\n",
       "    .dataframe tbody tr th {\n",
       "        vertical-align: top;\n",
       "    }\n",
       "\n",
       "    .dataframe thead th {\n",
       "        text-align: right;\n",
       "    }\n",
       "</style>\n",
       "<table border=\"1\" class=\"dataframe\">\n",
       "  <thead>\n",
       "    <tr style=\"text-align: right;\">\n",
       "      <th></th>\n",
       "      <th>RECIPE_ID</th>\n",
       "      <th>RECIPE_NM_KO</th>\n",
       "      <th>SERVINGS</th>\n",
       "      <th>TY_NM</th>\n",
       "      <th>COOKING_TIME</th>\n",
       "      <th>LEVEL_NM</th>\n",
       "      <th>IRDNT_CODE</th>\n",
       "      <th>INGREDIENT_FULL</th>\n",
       "      <th>STEP_TEXT</th>\n",
       "      <th>STEP_TIP</th>\n",
       "    </tr>\n",
       "  </thead>\n",
       "  <tbody>\n",
       "  </tbody>\n",
       "</table>\n",
       "</div>"
      ],
      "text/plain": [
       "Empty DataFrame\n",
       "Columns: [RECIPE_ID, RECIPE_NM_KO, SERVINGS, TY_NM, COOKING_TIME, LEVEL_NM, IRDNT_CODE, INGREDIENT_FULL, STEP_TEXT, STEP_TIP]\n",
       "Index: []"
      ]
     },
     "execution_count": 4,
     "metadata": {},
     "output_type": "execute_result"
    }
   ],
   "source": [
    "df[df['LEVEL_NM'].isna()]\n"
   ]
  },
  {
   "cell_type": "code",
   "execution_count": 22,
   "id": "21cfde39",
   "metadata": {},
   "outputs": [
    {
     "data": {
      "text/plain": [
       "0       False\n",
       "1       False\n",
       "2       False\n",
       "3       False\n",
       "4       False\n",
       "        ...  \n",
       "1437    False\n",
       "1438    False\n",
       "1439    False\n",
       "1440    False\n",
       "1441    False\n",
       "Name: INGREDIENT_FULL, Length: 1442, dtype: bool"
      ]
     },
     "execution_count": 22,
     "metadata": {},
     "output_type": "execute_result"
    }
   ],
   "source": [
    "df['INGREDIENT_FULL'].isna()"
   ]
  },
  {
   "cell_type": "code",
   "execution_count": 23,
   "id": "fe9027cb",
   "metadata": {},
   "outputs": [
    {
     "name": "stdout",
     "output_type": "stream",
     "text": [
      "<class 'pandas.core.frame.DataFrame'>\n",
      "RangeIndex: 1442 entries, 0 to 1441\n",
      "Data columns (total 11 columns):\n",
      " #   Column           Non-Null Count  Dtype  \n",
      "---  ------           --------------  -----  \n",
      " 0   RECIPE_ID        1442 non-null   int64  \n",
      " 1   RECIPE_NM_KO     1442 non-null   object \n",
      " 2   SUMRY            1409 non-null   object \n",
      " 3   SERVINGS         1374 non-null   float64\n",
      " 4   TY_NM            1442 non-null   object \n",
      " 5   COOKING_TIME     1392 non-null   float64\n",
      " 6   LEVEL_NM         1434 non-null   object \n",
      " 7   IRDNT_CODE       1442 non-null   object \n",
      " 8   INGREDIENT_FULL  1442 non-null   object \n",
      " 9   STEP_TEXT        1442 non-null   object \n",
      " 10  STEP_TIP         1442 non-null   object \n",
      "dtypes: float64(2), int64(1), object(8)\n",
      "memory usage: 124.0+ KB\n"
     ]
    }
   ],
   "source": [
    "df.info()\n"
   ]
  },
  {
   "cell_type": "code",
   "execution_count": 24,
   "id": "95aab7a4",
   "metadata": {},
   "outputs": [
    {
     "data": {
      "text/plain": [
       "RECIPE_ID           0\n",
       "RECIPE_NM_KO        0\n",
       "SUMRY              33\n",
       "SERVINGS           68\n",
       "TY_NM               0\n",
       "COOKING_TIME       50\n",
       "LEVEL_NM            8\n",
       "IRDNT_CODE          0\n",
       "INGREDIENT_FULL     0\n",
       "STEP_TEXT           0\n",
       "STEP_TIP            0\n",
       "dtype: int64"
      ]
     },
     "execution_count": 24,
     "metadata": {},
     "output_type": "execute_result"
    }
   ],
   "source": [
    "df.isnull().sum()"
   ]
  },
  {
   "cell_type": "code",
   "execution_count": null,
   "id": "e622be78",
   "metadata": {},
   "outputs": [],
   "source": []
  },
  {
   "cell_type": "code",
   "execution_count": 25,
   "id": "079a876c",
   "metadata": {},
   "outputs": [],
   "source": [
    "import numpy as np\n",
    "\n",
    "df = df.replace(['[]', '{}', ''], np.nan)"
   ]
  },
  {
   "cell_type": "code",
   "execution_count": 26,
   "id": "3fccc358",
   "metadata": {},
   "outputs": [],
   "source": [
    "df = df.dropna(subset=['STEP_TEXT'])\n"
   ]
  },
  {
   "cell_type": "code",
   "execution_count": 37,
   "id": "4818f2ba",
   "metadata": {},
   "outputs": [
    {
     "data": {
      "text/plain": [
       "RECIPE_ID           0\n",
       "RECIPE_NM_KO        0\n",
       "SUMRY               0\n",
       "SERVINGS           54\n",
       "TY_NM               0\n",
       "COOKING_TIME       36\n",
       "LEVEL_NM            0\n",
       "IRDNT_CODE          0\n",
       "INGREDIENT_FULL     0\n",
       "STEP_TEXT           0\n",
       "STEP_TIP            0\n",
       "dtype: int64"
      ]
     },
     "execution_count": 37,
     "metadata": {},
     "output_type": "execute_result"
    }
   ],
   "source": [
    "df.isnull().sum()"
   ]
  },
  {
   "cell_type": "code",
   "execution_count": 6,
   "id": "80fee369",
   "metadata": {},
   "outputs": [
    {
     "data": {
      "text/html": [
       "<div>\n",
       "<style scoped>\n",
       "    .dataframe tbody tr th:only-of-type {\n",
       "        vertical-align: middle;\n",
       "    }\n",
       "\n",
       "    .dataframe tbody tr th {\n",
       "        vertical-align: top;\n",
       "    }\n",
       "\n",
       "    .dataframe thead th {\n",
       "        text-align: right;\n",
       "    }\n",
       "</style>\n",
       "<table border=\"1\" class=\"dataframe\">\n",
       "  <thead>\n",
       "    <tr style=\"text-align: right;\">\n",
       "      <th></th>\n",
       "      <th>RECIPE_ID</th>\n",
       "      <th>RECIPE_NM_KO</th>\n",
       "      <th>SERVINGS</th>\n",
       "      <th>TY_NM</th>\n",
       "      <th>COOKING_TIME</th>\n",
       "      <th>LEVEL_NM</th>\n",
       "      <th>IRDNT_CODE</th>\n",
       "      <th>INGREDIENT_FULL</th>\n",
       "      <th>STEP_TEXT</th>\n",
       "      <th>STEP_TIP</th>\n",
       "    </tr>\n",
       "  </thead>\n",
       "  <tbody>\n",
       "    <tr>\n",
       "      <th>0</th>\n",
       "      <td>6847470</td>\n",
       "      <td>새우연두부달걀탕</td>\n",
       "      <td>2.0</td>\n",
       "      <td>국/탕</td>\n",
       "      <td>15.0</td>\n",
       "      <td>하</td>\n",
       "      <td>해물류</td>\n",
       "      <td>{'연두부': '1팩', '새우': '10-12마리', '달걀': '1개', '송송...</td>\n",
       "      <td>[\"1. 우선 다시마물을 만들어요. 냄비에 물 붓고 다시마를 넣어 센 불에서 끓이다...</td>\n",
       "      <td>[\"\", \"\", \"\", \"\", \"\", \"\", \"\"]</td>\n",
       "    </tr>\n",
       "    <tr>\n",
       "      <th>1</th>\n",
       "      <td>6902441</td>\n",
       "      <td>새우탕</td>\n",
       "      <td>2.0</td>\n",
       "      <td>국/탕</td>\n",
       "      <td>60.0</td>\n",
       "      <td>하</td>\n",
       "      <td>해물류</td>\n",
       "      <td>{'냉동': '새우살 200g', '양파': '1/2개', '애호박': '1/2개'...</td>\n",
       "      <td>[\"1. · 멸치 다시 육수를 끓여줍니다 ( 저는 집에 다시팩이 있어서 넣어줬습니다...</td>\n",
       "      <td>[\"- 다시마 3장, 멸치 7~10개, 물 1L넣고 끓이다가 물이 끓으면 다시마만 ...</td>\n",
       "    </tr>\n",
       "    <tr>\n",
       "      <th>2</th>\n",
       "      <td>6915735</td>\n",
       "      <td>들깨무국</td>\n",
       "      <td>2.0</td>\n",
       "      <td>국/탕</td>\n",
       "      <td>15.0</td>\n",
       "      <td>하</td>\n",
       "      <td>기타</td>\n",
       "      <td>{'채썬': '무 1컵', '대파': '1줄', '물': '3컵', '들깨가루': ...</td>\n",
       "      <td>[\"1. 채썬 무를 냄비에 넣고, 소금1/2큰술,참기름1큰술을 넣고 볶아요.\", \"...</td>\n",
       "      <td>[\"\", \"\", \"\", \"\", \"\", \"\"]</td>\n",
       "    </tr>\n",
       "    <tr>\n",
       "      <th>3</th>\n",
       "      <td>6914749</td>\n",
       "      <td>감자어묵국</td>\n",
       "      <td>4.0</td>\n",
       "      <td>국/탕</td>\n",
       "      <td>30.0</td>\n",
       "      <td>하</td>\n",
       "      <td>해물류</td>\n",
       "      <td>{'감자': '1개', '양파': '1/2개', '어묵': '100g', '대파':...</td>\n",
       "      <td>[\"1. 물 7컵에 다시재료를 넣어주고 중약불에서 뭉근하게 끓여 육수를 내줍니다.\"...</td>\n",
       "      <td>[\"\", \"기호에 따라 청양고추 반개 분량을 총총 썰어 넣어주셔도 좋습니다.\", \"...</td>\n",
       "    </tr>\n",
       "    <tr>\n",
       "      <th>4</th>\n",
       "      <td>6880695</td>\n",
       "      <td>소고기배추국</td>\n",
       "      <td>3.0</td>\n",
       "      <td>국/탕</td>\n",
       "      <td>30.0</td>\n",
       "      <td>하</td>\n",
       "      <td>소고기류</td>\n",
       "      <td>{'배추잎': '5~6장', '소고기국거리': '200g', '다진마늘': '1/2...</td>\n",
       "      <td>[\"1. 배추 반포기를 다?! 노노~~ 배추잎 5장 정도 뜯어서 칼로 먹기 좋게 썰...</td>\n",
       "      <td>[\"\", \"\", \"\", \"\", \"\", \"\", \"\", \"\", \"\", \"\", \"\"]</td>\n",
       "    </tr>\n",
       "  </tbody>\n",
       "</table>\n",
       "</div>"
      ],
      "text/plain": [
       "   RECIPE_ID RECIPE_NM_KO  SERVINGS TY_NM  COOKING_TIME LEVEL_NM IRDNT_CODE  \\\n",
       "0    6847470     새우연두부달걀탕       2.0   국/탕          15.0        하        해물류   \n",
       "1    6902441          새우탕       2.0   국/탕          60.0        하        해물류   \n",
       "2    6915735         들깨무국       2.0   국/탕          15.0        하         기타   \n",
       "3    6914749        감자어묵국       4.0   국/탕          30.0        하        해물류   \n",
       "4    6880695       소고기배추국       3.0   국/탕          30.0        하       소고기류   \n",
       "\n",
       "                                     INGREDIENT_FULL  \\\n",
       "0  {'연두부': '1팩', '새우': '10-12마리', '달걀': '1개', '송송...   \n",
       "1  {'냉동': '새우살 200g', '양파': '1/2개', '애호박': '1/2개'...   \n",
       "2  {'채썬': '무 1컵', '대파': '1줄', '물': '3컵', '들깨가루': ...   \n",
       "3  {'감자': '1개', '양파': '1/2개', '어묵': '100g', '대파':...   \n",
       "4  {'배추잎': '5~6장', '소고기국거리': '200g', '다진마늘': '1/2...   \n",
       "\n",
       "                                           STEP_TEXT  \\\n",
       "0  [\"1. 우선 다시마물을 만들어요. 냄비에 물 붓고 다시마를 넣어 센 불에서 끓이다...   \n",
       "1  [\"1. · 멸치 다시 육수를 끓여줍니다 ( 저는 집에 다시팩이 있어서 넣어줬습니다...   \n",
       "2  [\"1. 채썬 무를 냄비에 넣고, 소금1/2큰술,참기름1큰술을 넣고 볶아요.\", \"...   \n",
       "3  [\"1. 물 7컵에 다시재료를 넣어주고 중약불에서 뭉근하게 끓여 육수를 내줍니다.\"...   \n",
       "4  [\"1. 배추 반포기를 다?! 노노~~ 배추잎 5장 정도 뜯어서 칼로 먹기 좋게 썰...   \n",
       "\n",
       "                                            STEP_TIP  \n",
       "0                       [\"\", \"\", \"\", \"\", \"\", \"\", \"\"]  \n",
       "1  [\"- 다시마 3장, 멸치 7~10개, 물 1L넣고 끓이다가 물이 끓으면 다시마만 ...  \n",
       "2                           [\"\", \"\", \"\", \"\", \"\", \"\"]  \n",
       "3  [\"\", \"기호에 따라 청양고추 반개 분량을 총총 썰어 넣어주셔도 좋습니다.\", \"...  \n",
       "4       [\"\", \"\", \"\", \"\", \"\", \"\", \"\", \"\", \"\", \"\", \"\"]  "
      ]
     },
     "execution_count": 6,
     "metadata": {},
     "output_type": "execute_result"
    }
   ],
   "source": [
    "df.head( )"
   ]
  },
  {
   "cell_type": "code",
   "execution_count": 7,
   "id": "66f28df7",
   "metadata": {},
   "outputs": [
    {
     "ename": "KeyError",
     "evalue": "'SUMRY'",
     "output_type": "error",
     "traceback": [
      "\u001b[31m---------------------------------------------------------------------------\u001b[39m",
      "\u001b[31mKeyError\u001b[39m                                  Traceback (most recent call last)",
      "\u001b[36mFile \u001b[39m\u001b[32mc:\\Users\\Admin\\miniconda3\\envs\\hipython\\Lib\\site-packages\\pandas\\core\\indexes\\base.py:3812\u001b[39m, in \u001b[36mIndex.get_loc\u001b[39m\u001b[34m(self, key)\u001b[39m\n\u001b[32m   3811\u001b[39m \u001b[38;5;28;01mtry\u001b[39;00m:\n\u001b[32m-> \u001b[39m\u001b[32m3812\u001b[39m     \u001b[38;5;28;01mreturn\u001b[39;00m \u001b[38;5;28;43mself\u001b[39;49m\u001b[43m.\u001b[49m\u001b[43m_engine\u001b[49m\u001b[43m.\u001b[49m\u001b[43mget_loc\u001b[49m\u001b[43m(\u001b[49m\u001b[43mcasted_key\u001b[49m\u001b[43m)\u001b[49m\n\u001b[32m   3813\u001b[39m \u001b[38;5;28;01mexcept\u001b[39;00m \u001b[38;5;167;01mKeyError\u001b[39;00m \u001b[38;5;28;01mas\u001b[39;00m err:\n",
      "\u001b[36mFile \u001b[39m\u001b[32mpandas/_libs/index.pyx:167\u001b[39m, in \u001b[36mpandas._libs.index.IndexEngine.get_loc\u001b[39m\u001b[34m()\u001b[39m\n",
      "\u001b[36mFile \u001b[39m\u001b[32mpandas/_libs/index.pyx:196\u001b[39m, in \u001b[36mpandas._libs.index.IndexEngine.get_loc\u001b[39m\u001b[34m()\u001b[39m\n",
      "\u001b[36mFile \u001b[39m\u001b[32mpandas/_libs/hashtable_class_helper.pxi:7088\u001b[39m, in \u001b[36mpandas._libs.hashtable.PyObjectHashTable.get_item\u001b[39m\u001b[34m()\u001b[39m\n",
      "\u001b[36mFile \u001b[39m\u001b[32mpandas/_libs/hashtable_class_helper.pxi:7096\u001b[39m, in \u001b[36mpandas._libs.hashtable.PyObjectHashTable.get_item\u001b[39m\u001b[34m()\u001b[39m\n",
      "\u001b[31mKeyError\u001b[39m: 'SUMRY'",
      "\nThe above exception was the direct cause of the following exception:\n",
      "\u001b[31mKeyError\u001b[39m                                  Traceback (most recent call last)",
      "\u001b[36mCell\u001b[39m\u001b[36m \u001b[39m\u001b[32mIn[7]\u001b[39m\u001b[32m, line 1\u001b[39m\n\u001b[32m----> \u001b[39m\u001b[32m1\u001b[39m df[\u001b[43mdf\u001b[49m\u001b[43m[\u001b[49m\u001b[33;43m'\u001b[39;49m\u001b[33;43mSUMRY\u001b[39;49m\u001b[33;43m'\u001b[39;49m\u001b[43m]\u001b[49m.isna()]\n",
      "\u001b[36mFile \u001b[39m\u001b[32mc:\\Users\\Admin\\miniconda3\\envs\\hipython\\Lib\\site-packages\\pandas\\core\\frame.py:4107\u001b[39m, in \u001b[36mDataFrame.__getitem__\u001b[39m\u001b[34m(self, key)\u001b[39m\n\u001b[32m   4105\u001b[39m \u001b[38;5;28;01mif\u001b[39;00m \u001b[38;5;28mself\u001b[39m.columns.nlevels > \u001b[32m1\u001b[39m:\n\u001b[32m   4106\u001b[39m     \u001b[38;5;28;01mreturn\u001b[39;00m \u001b[38;5;28mself\u001b[39m._getitem_multilevel(key)\n\u001b[32m-> \u001b[39m\u001b[32m4107\u001b[39m indexer = \u001b[38;5;28;43mself\u001b[39;49m\u001b[43m.\u001b[49m\u001b[43mcolumns\u001b[49m\u001b[43m.\u001b[49m\u001b[43mget_loc\u001b[49m\u001b[43m(\u001b[49m\u001b[43mkey\u001b[49m\u001b[43m)\u001b[49m\n\u001b[32m   4108\u001b[39m \u001b[38;5;28;01mif\u001b[39;00m is_integer(indexer):\n\u001b[32m   4109\u001b[39m     indexer = [indexer]\n",
      "\u001b[36mFile \u001b[39m\u001b[32mc:\\Users\\Admin\\miniconda3\\envs\\hipython\\Lib\\site-packages\\pandas\\core\\indexes\\base.py:3819\u001b[39m, in \u001b[36mIndex.get_loc\u001b[39m\u001b[34m(self, key)\u001b[39m\n\u001b[32m   3814\u001b[39m     \u001b[38;5;28;01mif\u001b[39;00m \u001b[38;5;28misinstance\u001b[39m(casted_key, \u001b[38;5;28mslice\u001b[39m) \u001b[38;5;129;01mor\u001b[39;00m (\n\u001b[32m   3815\u001b[39m         \u001b[38;5;28misinstance\u001b[39m(casted_key, abc.Iterable)\n\u001b[32m   3816\u001b[39m         \u001b[38;5;129;01mand\u001b[39;00m \u001b[38;5;28many\u001b[39m(\u001b[38;5;28misinstance\u001b[39m(x, \u001b[38;5;28mslice\u001b[39m) \u001b[38;5;28;01mfor\u001b[39;00m x \u001b[38;5;129;01min\u001b[39;00m casted_key)\n\u001b[32m   3817\u001b[39m     ):\n\u001b[32m   3818\u001b[39m         \u001b[38;5;28;01mraise\u001b[39;00m InvalidIndexError(key)\n\u001b[32m-> \u001b[39m\u001b[32m3819\u001b[39m     \u001b[38;5;28;01mraise\u001b[39;00m \u001b[38;5;167;01mKeyError\u001b[39;00m(key) \u001b[38;5;28;01mfrom\u001b[39;00m\u001b[38;5;250m \u001b[39m\u001b[34;01merr\u001b[39;00m\n\u001b[32m   3820\u001b[39m \u001b[38;5;28;01mexcept\u001b[39;00m \u001b[38;5;167;01mTypeError\u001b[39;00m:\n\u001b[32m   3821\u001b[39m     \u001b[38;5;66;03m# If we have a listlike key, _check_indexing_error will raise\u001b[39;00m\n\u001b[32m   3822\u001b[39m     \u001b[38;5;66;03m#  InvalidIndexError. Otherwise we fall through and re-raise\u001b[39;00m\n\u001b[32m   3823\u001b[39m     \u001b[38;5;66;03m#  the TypeError.\u001b[39;00m\n\u001b[32m   3824\u001b[39m     \u001b[38;5;28mself\u001b[39m._check_indexing_error(key)\n",
      "\u001b[31mKeyError\u001b[39m: 'SUMRY'"
     ]
    }
   ],
   "source": [
    "df[df['SUMRY'].isna()]\n"
   ]
  },
  {
   "cell_type": "code",
   "execution_count": 31,
   "id": "2cd7c233",
   "metadata": {},
   "outputs": [],
   "source": [
    "df.to_csv(\"recipes_over100k_all_with_IRDNT.csv\", index=False, encoding=\"utf-8-sig\")"
   ]
  },
  {
   "cell_type": "code",
   "execution_count": 16,
   "id": "2d3f030e",
   "metadata": {},
   "outputs": [],
   "source": [
    "df=df.drop(columns=['RECIPE_NM_KO'])"
   ]
  },
  {
   "cell_type": "code",
   "execution_count": 17,
   "id": "5acc5bcd",
   "metadata": {},
   "outputs": [],
   "source": [
    "df = df.rename(columns={'SUMRY': 'RECIPE_NM_KO'})\n"
   ]
  },
  {
   "cell_type": "code",
   "execution_count": 18,
   "id": "9a296760",
   "metadata": {},
   "outputs": [
    {
     "data": {
      "text/html": [
       "<div>\n",
       "<style scoped>\n",
       "    .dataframe tbody tr th:only-of-type {\n",
       "        vertical-align: middle;\n",
       "    }\n",
       "\n",
       "    .dataframe tbody tr th {\n",
       "        vertical-align: top;\n",
       "    }\n",
       "\n",
       "    .dataframe thead th {\n",
       "        text-align: right;\n",
       "    }\n",
       "</style>\n",
       "<table border=\"1\" class=\"dataframe\">\n",
       "  <thead>\n",
       "    <tr style=\"text-align: right;\">\n",
       "      <th></th>\n",
       "      <th>RECIPE_ID</th>\n",
       "      <th>RECIPE_NM_KO</th>\n",
       "      <th>SERVINGS</th>\n",
       "      <th>TY_NM</th>\n",
       "      <th>COOKING_TIME</th>\n",
       "      <th>LEVEL_NM</th>\n",
       "      <th>IRDNT_CODE</th>\n",
       "      <th>INGREDIENT_FULL</th>\n",
       "      <th>STEP_TEXT</th>\n",
       "      <th>STEP_TIP</th>\n",
       "    </tr>\n",
       "  </thead>\n",
       "  <tbody>\n",
       "    <tr>\n",
       "      <th>0</th>\n",
       "      <td>6847470</td>\n",
       "      <td>NaN</td>\n",
       "      <td>2.0</td>\n",
       "      <td>국/탕</td>\n",
       "      <td>15.0</td>\n",
       "      <td>아무나</td>\n",
       "      <td>해물류</td>\n",
       "      <td>{'연두부': '1팩', '새우': '10-12마리', '달걀': '1개', '송송...</td>\n",
       "      <td>[\"1. 우선 다시마물을 만들어요. 냄비에 물 붓고 다시마를 넣어 센 불에서 끓이다...</td>\n",
       "      <td>[\"\", \"\", \"\", \"\", \"\", \"\", \"\"]</td>\n",
       "    </tr>\n",
       "    <tr>\n",
       "      <th>1</th>\n",
       "      <td>6902441</td>\n",
       "      <td>새우탕</td>\n",
       "      <td>2.0</td>\n",
       "      <td>국/탕</td>\n",
       "      <td>60.0</td>\n",
       "      <td>아무나</td>\n",
       "      <td>해물류</td>\n",
       "      <td>{'냉동': '새우살 200g', '양파': '1/2개', '애호박': '1/2개'...</td>\n",
       "      <td>[\"1. · 멸치 다시 육수를 끓여줍니다 ( 저는 집에 다시팩이 있어서 넣어줬습니다...</td>\n",
       "      <td>[\"- 다시마 3장, 멸치 7~10개, 물 1L넣고 끓이다가 물이 끓으면 다시마만 ...</td>\n",
       "    </tr>\n",
       "    <tr>\n",
       "      <th>2</th>\n",
       "      <td>6915735</td>\n",
       "      <td>들깨무국</td>\n",
       "      <td>2.0</td>\n",
       "      <td>국/탕</td>\n",
       "      <td>15.0</td>\n",
       "      <td>아무나</td>\n",
       "      <td>기타</td>\n",
       "      <td>{'채썬': '무 1컵', '대파': '1줄', '물': '3컵', '들깨가루': ...</td>\n",
       "      <td>[\"1. 채썬 무를 냄비에 넣고, 소금1/2큰술,참기름1큰술을 넣고 볶아요.\", \"...</td>\n",
       "      <td>[\"\", \"\", \"\", \"\", \"\", \"\"]</td>\n",
       "    </tr>\n",
       "    <tr>\n",
       "      <th>3</th>\n",
       "      <td>6914749</td>\n",
       "      <td>감자어묵국</td>\n",
       "      <td>4.0</td>\n",
       "      <td>국/탕</td>\n",
       "      <td>30.0</td>\n",
       "      <td>초급</td>\n",
       "      <td>해물류</td>\n",
       "      <td>{'감자': '1개', '양파': '1/2개', '어묵': '100g', '대파':...</td>\n",
       "      <td>[\"1. 물 7컵에 다시재료를 넣어주고 중약불에서 뭉근하게 끓여 육수를 내줍니다.\"...</td>\n",
       "      <td>[\"\", \"기호에 따라 청양고추 반개 분량을 총총 썰어 넣어주셔도 좋습니다.\", \"...</td>\n",
       "    </tr>\n",
       "    <tr>\n",
       "      <th>4</th>\n",
       "      <td>6880695</td>\n",
       "      <td>소고기배추국</td>\n",
       "      <td>3.0</td>\n",
       "      <td>국/탕</td>\n",
       "      <td>30.0</td>\n",
       "      <td>아무나</td>\n",
       "      <td>소고기류</td>\n",
       "      <td>{'배추잎': '5~6장', '소고기국거리': '200g', '다진마늘': '1/2...</td>\n",
       "      <td>[\"1. 배추 반포기를 다?! 노노~~ 배추잎 5장 정도 뜯어서 칼로 먹기 좋게 썰...</td>\n",
       "      <td>[\"\", \"\", \"\", \"\", \"\", \"\", \"\", \"\", \"\", \"\", \"\"]</td>\n",
       "    </tr>\n",
       "  </tbody>\n",
       "</table>\n",
       "</div>"
      ],
      "text/plain": [
       "   RECIPE_ID RECIPE_NM_KO  SERVINGS TY_NM  COOKING_TIME LEVEL_NM IRDNT_CODE  \\\n",
       "0    6847470          NaN       2.0   국/탕          15.0      아무나        해물류   \n",
       "1    6902441          새우탕       2.0   국/탕          60.0      아무나        해물류   \n",
       "2    6915735         들깨무국       2.0   국/탕          15.0      아무나         기타   \n",
       "3    6914749        감자어묵국       4.0   국/탕          30.0       초급        해물류   \n",
       "4    6880695       소고기배추국       3.0   국/탕          30.0      아무나       소고기류   \n",
       "\n",
       "                                     INGREDIENT_FULL  \\\n",
       "0  {'연두부': '1팩', '새우': '10-12마리', '달걀': '1개', '송송...   \n",
       "1  {'냉동': '새우살 200g', '양파': '1/2개', '애호박': '1/2개'...   \n",
       "2  {'채썬': '무 1컵', '대파': '1줄', '물': '3컵', '들깨가루': ...   \n",
       "3  {'감자': '1개', '양파': '1/2개', '어묵': '100g', '대파':...   \n",
       "4  {'배추잎': '5~6장', '소고기국거리': '200g', '다진마늘': '1/2...   \n",
       "\n",
       "                                           STEP_TEXT  \\\n",
       "0  [\"1. 우선 다시마물을 만들어요. 냄비에 물 붓고 다시마를 넣어 센 불에서 끓이다...   \n",
       "1  [\"1. · 멸치 다시 육수를 끓여줍니다 ( 저는 집에 다시팩이 있어서 넣어줬습니다...   \n",
       "2  [\"1. 채썬 무를 냄비에 넣고, 소금1/2큰술,참기름1큰술을 넣고 볶아요.\", \"...   \n",
       "3  [\"1. 물 7컵에 다시재료를 넣어주고 중약불에서 뭉근하게 끓여 육수를 내줍니다.\"...   \n",
       "4  [\"1. 배추 반포기를 다?! 노노~~ 배추잎 5장 정도 뜯어서 칼로 먹기 좋게 썰...   \n",
       "\n",
       "                                            STEP_TIP  \n",
       "0                       [\"\", \"\", \"\", \"\", \"\", \"\", \"\"]  \n",
       "1  [\"- 다시마 3장, 멸치 7~10개, 물 1L넣고 끓이다가 물이 끓으면 다시마만 ...  \n",
       "2                           [\"\", \"\", \"\", \"\", \"\", \"\"]  \n",
       "3  [\"\", \"기호에 따라 청양고추 반개 분량을 총총 썰어 넣어주셔도 좋습니다.\", \"...  \n",
       "4       [\"\", \"\", \"\", \"\", \"\", \"\", \"\", \"\", \"\", \"\", \"\"]  "
      ]
     },
     "execution_count": 18,
     "metadata": {},
     "output_type": "execute_result"
    }
   ],
   "source": [
    "df.head()"
   ]
  },
  {
   "cell_type": "code",
   "execution_count": 8,
   "id": "d0622360",
   "metadata": {},
   "outputs": [],
   "source": [
    "df.to_csv(\"recipes_over100k.csv\", index=False, encoding=\"utf-8-sig\")\n"
   ]
  },
  {
   "cell_type": "code",
   "execution_count": null,
   "id": "e30b0c18",
   "metadata": {},
   "outputs": [],
   "source": []
  }
 ],
 "metadata": {
  "kernelspec": {
   "display_name": "hipython",
   "language": "python",
   "name": "python3"
  },
  "language_info": {
   "codemirror_mode": {
    "name": "ipython",
    "version": 3
   },
   "file_extension": ".py",
   "mimetype": "text/x-python",
   "name": "python",
   "nbconvert_exporter": "python",
   "pygments_lexer": "ipython3",
   "version": "3.12.9"
  }
 },
 "nbformat": 4,
 "nbformat_minor": 5
}
