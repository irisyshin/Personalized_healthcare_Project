{
 "cells": [
  {
   "cell_type": "code",
   "execution_count": 1,
   "id": "a5b5b768",
   "metadata": {},
   "outputs": [
    {
     "name": "stdout",
     "output_type": "stream",
     "text": [
      "                  식품코드      식품명 데이터구분코드 데이터구분명  식품기원코드       식품기원명  식품대분류코드  \\\n",
      "0  D101-004160000-0001  국밥_돼지머리       D     음식       1  가정식(분석 함량)        1   \n",
      "1  D101-004310000-0001  국밥_순대국밥       D     음식       1  가정식(분석 함량)        1   \n",
      "2  D101-004500000-0001   국밥_콩나물       D     음식       1  가정식(분석 함량)        1   \n",
      "3  D101-006000000-0001      기장밥       D     음식       1  가정식(분석 함량)        1   \n",
      "4  D101-007000000-0001       김밥       D     음식       1  가정식(분석 함량)        1   \n",
      "\n",
      "  식품대분류명  대표식품코드 대표식품명  ...  토코페롤(mg) 토코트리에놀(mg)  출처코드       출처명  식품중량   업체명  \\\n",
      "0     밥류    1004    국밥  ...      0.30       0.04     3  식품의약품안전처  900g  해당없음   \n",
      "1     밥류    1004    국밥  ...      0.33       0.06     3  식품의약품안전처  900g  해당없음   \n",
      "2     밥류    1004    국밥  ...      0.33       0.04     3  식품의약품안전처  780g  해당없음   \n",
      "3     밥류    1006   기장밥  ...      0.22       0.21     3  식품의약품안전처  200g  해당없음   \n",
      "4     밥류    1007    김밥  ...      0.98       0.09     3  식품의약품안전처  230g  해당없음   \n",
      "\n",
      "  데이터생성방법코드  데이터생성방법명     데이터생성일자     데이터기준일자  \n",
      "0         1        분석  2017-12-31  2025-04-08  \n",
      "1         1        분석  2017-12-31  2025-04-08  \n",
      "2         1        분석  2018-12-31  2025-04-08  \n",
      "3         1        분석  2017-12-31  2025-04-08  \n",
      "4         1        분석  2018-12-31  2025-04-08  \n",
      "\n",
      "[5 rows x 159 columns]\n",
      "<class 'pandas.core.frame.DataFrame'>\n",
      "RangeIndex: 14584 entries, 0 to 14583\n",
      "Columns: 159 entries, 식품코드 to 데이터기준일자\n",
      "dtypes: float64(129), int64(9), object(21)\n",
      "memory usage: 17.7+ MB\n",
      "None\n",
      "(14584, 159)\n"
     ]
    },
    {
     "name": "stderr",
     "output_type": "stream",
     "text": [
      "C:\\Users\\Admin\\AppData\\Local\\Temp\\ipykernel_17316\\77373361.py:4: DtypeWarning: Columns (45,126,144,148) have mixed types. Specify dtype option on import or set low_memory=False.\n",
      "  df = pd.read_csv(\"20250408_음식DB.csv\")\n"
     ]
    }
   ],
   "source": [
    "import pandas as pd\n",
    "\n",
    "# CSV 파일 불러오기\n",
    "df = pd.read_csv(\"20250408_음식DB.csv\")\n",
    "\n",
    "# 데이터 확인\n",
    "print(df.head())\n",
    "print(df.info())\n",
    "print(df.shape)"
   ]
  },
  {
   "cell_type": "code",
   "execution_count": 2,
   "id": "2beef59e",
   "metadata": {},
   "outputs": [
    {
     "name": "stdout",
     "output_type": "stream",
     "text": [
      "Index(['식품코드', '식품명', '데이터구분코드', '데이터구분명', '식품기원코드', '식품기원명', '식품대분류코드',\n",
      "       '식품대분류명', '대표식품코드', '대표식품명',\n",
      "       ...\n",
      "       '토코페롤(mg)', '토코트리에놀(mg)', '출처코드', '출처명', '식품중량', '업체명', '데이터생성방법코드',\n",
      "       '데이터생성방법명', '데이터생성일자', '데이터기준일자'],\n",
      "      dtype='object', length=159)\n"
     ]
    }
   ],
   "source": [
    "print(df.columns)"
   ]
  },
  {
   "cell_type": "code",
   "execution_count": 3,
   "id": "8efbdfc0",
   "metadata": {},
   "outputs": [],
   "source": [
    "df1 = df.copy()"
   ]
  },
  {
   "cell_type": "code",
   "execution_count": 4,
   "id": "01415163",
   "metadata": {},
   "outputs": [
    {
     "name": "stdout",
     "output_type": "stream",
     "text": [
      "(14455, 159)\n",
      "                  식품코드      식품명 데이터구분코드 데이터구분명  식품기원코드       식품기원명  식품대분류코드  \\\n",
      "0  D101-004160000-0001  국밥_돼지머리       D     음식       1  가정식(분석 함량)        1   \n",
      "1  D101-004310000-0001  국밥_순대국밥       D     음식       1  가정식(분석 함량)        1   \n",
      "2  D101-004500000-0001   국밥_콩나물       D     음식       1  가정식(분석 함량)        1   \n",
      "3  D101-006000000-0001      기장밥       D     음식       1  가정식(분석 함량)        1   \n",
      "4  D101-007000000-0001       김밥       D     음식       1  가정식(분석 함량)        1   \n",
      "\n",
      "  식품대분류명  대표식품코드 대표식품명  ...  토코페롤(mg) 토코트리에놀(mg)  출처코드       출처명  식품중량   업체명  \\\n",
      "0     밥류    1004    국밥  ...      0.30       0.04     3  식품의약품안전처  900g  해당없음   \n",
      "1     밥류    1004    국밥  ...      0.33       0.06     3  식품의약품안전처  900g  해당없음   \n",
      "2     밥류    1004    국밥  ...      0.33       0.04     3  식품의약품안전처  780g  해당없음   \n",
      "3     밥류    1006   기장밥  ...      0.22       0.21     3  식품의약품안전처  200g  해당없음   \n",
      "4     밥류    1007    김밥  ...      0.98       0.09     3  식품의약품안전처  230g  해당없음   \n",
      "\n",
      "  데이터생성방법코드  데이터생성방법명     데이터생성일자     데이터기준일자  \n",
      "0         1        분석  2017-12-31  2025-04-08  \n",
      "1         1        분석  2017-12-31  2025-04-08  \n",
      "2         1        분석  2018-12-31  2025-04-08  \n",
      "3         1        분석  2017-12-31  2025-04-08  \n",
      "4         1        분석  2018-12-31  2025-04-08  \n",
      "\n",
      "[5 rows x 159 columns]\n"
     ]
    }
   ],
   "source": [
    "import pandas as pd\n",
    "\n",
    "# '식품명'에서 '조리' 또는 '간편'이 포함된 행 제거\n",
    "df1 = df1[~df1['식품명'].str.contains('조리|간편', na=False)]\n",
    "\n",
    "# 결과 확인\n",
    "print(df1.shape)\n",
    "print(df1.head())\n"
   ]
  },
  {
   "cell_type": "code",
   "execution_count": 5,
   "id": "527a36a8",
   "metadata": {},
   "outputs": [
    {
     "name": "stdout",
     "output_type": "stream",
     "text": [
      "(14408, 159)\n",
      "                  식품코드      식품명 데이터구분코드 데이터구분명  식품기원코드       식품기원명  식품대분류코드  \\\n",
      "0  D101-004160000-0001  국밥_돼지머리       D     음식       1  가정식(분석 함량)        1   \n",
      "1  D101-004310000-0001  국밥_순대국밥       D     음식       1  가정식(분석 함량)        1   \n",
      "2  D101-004500000-0001   국밥_콩나물       D     음식       1  가정식(분석 함량)        1   \n",
      "3  D101-006000000-0001      기장밥       D     음식       1  가정식(분석 함량)        1   \n",
      "4  D101-007000000-0001       김밥       D     음식       1  가정식(분석 함량)        1   \n",
      "\n",
      "  식품대분류명  대표식품코드 대표식품명  ...  토코페롤(mg) 토코트리에놀(mg)  출처코드       출처명  식품중량   업체명  \\\n",
      "0     밥류    1004    국밥  ...      0.30       0.04     3  식품의약품안전처  900g  해당없음   \n",
      "1     밥류    1004    국밥  ...      0.33       0.06     3  식품의약품안전처  900g  해당없음   \n",
      "2     밥류    1004    국밥  ...      0.33       0.04     3  식품의약품안전처  780g  해당없음   \n",
      "3     밥류    1006   기장밥  ...      0.22       0.21     3  식품의약품안전처  200g  해당없음   \n",
      "4     밥류    1007    김밥  ...      0.98       0.09     3  식품의약품안전처  230g  해당없음   \n",
      "\n",
      "  데이터생성방법코드  데이터생성방법명     데이터생성일자     데이터기준일자  \n",
      "0         1        분석  2017-12-31  2025-04-08  \n",
      "1         1        분석  2017-12-31  2025-04-08  \n",
      "2         1        분석  2018-12-31  2025-04-08  \n",
      "3         1        분석  2017-12-31  2025-04-08  \n",
      "4         1        분석  2018-12-31  2025-04-08  \n",
      "\n",
      "[5 rows x 159 columns]\n"
     ]
    }
   ],
   "source": [
    "import pandas as pd\n",
    "\n",
    "# '식품명'에서 '조리' 또는 '간편'이 포함된 행 제거\n",
    "df1 = df1[~df1['식품명'].str.contains('개입', na=False)]\n",
    "\n",
    "# 결과 확인\n",
    "print(df1.shape)\n",
    "print(df1.head())\n"
   ]
  },
  {
   "cell_type": "code",
   "execution_count": 6,
   "id": "70913d5c",
   "metadata": {},
   "outputs": [
    {
     "data": {
      "text/plain": [
       "식품코드         3166\n",
       "식품명          3166\n",
       "데이터구분코드      3166\n",
       "데이터구분명       3166\n",
       "식품기원코드       3166\n",
       "             ... \n",
       "업체명          3166\n",
       "데이터생성방법코드    3166\n",
       "데이터생성방법명     3166\n",
       "데이터생성일자      3166\n",
       "데이터기준일자      3166\n",
       "Length: 159, dtype: int64"
      ]
     },
     "execution_count": 6,
     "metadata": {},
     "output_type": "execute_result"
    }
   ],
   "source": [
    "pizza_df = df1[df1.식품명.str.contains('피자', na=False)]\n",
    "pizza_df.count()"
   ]
  },
  {
   "cell_type": "code",
   "execution_count": 7,
   "id": "e0a79955",
   "metadata": {},
   "outputs": [],
   "source": [
    "# '식품명'이 '피자_'로 시작하고, 업체명이 '미스터피자'가 아닌 행 제거\n",
    "df1 = df1[~(df1['식품명'].str.match('^피자_', na=False) & (df1['업체명'] != '미스터피자'))]\n"
   ]
  },
  {
   "cell_type": "code",
   "execution_count": 8,
   "id": "96f17006",
   "metadata": {},
   "outputs": [],
   "source": [
    "# 피자빵 전처리\n",
    "df1 = df1[~df1['식품명'].str.contains('피자빵_', na=False)]"
   ]
  },
  {
   "cell_type": "code",
   "execution_count": 9,
   "id": "a58dd7cf",
   "metadata": {},
   "outputs": [],
   "source": [
    "# 버거 전처리 \n",
    "df1 = df1[~(df1['식품명'].str.match('^버거_', na=False) & (df1['업체명'] != '맥도날드'))]\n",
    "\n"
   ]
  },
  {
   "cell_type": "code",
   "execution_count": 10,
   "id": "ab08e95b",
   "metadata": {},
   "outputs": [],
   "source": [
    "# 식품명: 도넛 제거 \n",
    "df1 = df1[~(df1['식품명'].str.match('도넛', na=False))]\n"
   ]
  },
  {
   "cell_type": "code",
   "execution_count": 11,
   "id": "2b5164fd",
   "metadata": {},
   "outputs": [],
   "source": [
    "# 식품명: 샌드위치_, 업체명: 해당없음,식품기원명: 외식(분석함량) 만 유지 \n",
    "df1 = df1[~(df1['식품명'].str.match('^샌드위치_', na=False) & (df1['업체명'] != '해당없음'))]\n",
    "df1 = df1[~(df1['식품명'].str.contains('샌드위치', na=False) & ~df1['식품명'].str.match('^샌드위치_', na=False))]\n",
    "df1 = df1[~(df1['식품명'].str.match('^샌드위치_', na=False) & (df1['식품기원명'] != '외식(분석함량)'))]\n"
   ]
  },
  {
   "cell_type": "code",
   "execution_count": 12,
   "id": "b6ed8d82",
   "metadata": {},
   "outputs": [],
   "source": [
    "# '대표식품명' == '멘보샤' 인 것 중 '식품명' == '멘보샤' 만 유지\n",
    "df1 = df1[~((df1['대표식품명'] == '멘보샤') & (df1['식품명'] != '멘보샤'))]\n",
    "\n"
   ]
  },
  {
   "cell_type": "code",
   "execution_count": 13,
   "id": "c2f2e9b1",
   "metadata": {},
   "outputs": [],
   "source": [
    "# 식품명: 마카롱, 롤빵, 와플, 크로플, 라\n",
    "df1 = df1[~(df1['식품명'].str.match('마카롱', na=False))]\n",
    "df1 = df1[~(df1['식품명'].str.match('롤빵', na=False))]\n",
    "df1 = df1[~(df1['식품명'].str.match('와플', na=False))]\n",
    "df1 = df1[~(df1['식품명'].str.match('크로플', na=False))]\n",
    "df1 = df1[~(df1['대표식품명'].str.match('라떼', na=False))]\n",
    "df1 = df1[~(df1['대표식품명'].str.match('아이스크림', na=False))]"
   ]
  },
  {
   "cell_type": "code",
   "execution_count": 14,
   "id": "4a8173e8",
   "metadata": {},
   "outputs": [],
   "source": [
    "df1 = df1[~(df1['식품대분류명'].str.match('음료 및 차류', na=False))]"
   ]
  },
  {
   "cell_type": "code",
   "execution_count": null,
   "id": "797ef06c",
   "metadata": {},
   "outputs": [],
   "source": []
  },
  {
   "cell_type": "code",
   "execution_count": 15,
   "id": "a4cf2200",
   "metadata": {},
   "outputs": [],
   "source": [
    "df1 = df1[~df1['식품명'].str.match('^크로와상_', na=False)]\n",
    "df1 = df1[~df1['식품명'].str.match('^비스킷_', na=False)]\n",
    "df1 = df1[~df1['식품명'].str.match('^쿠키_', na=False)]\n",
    "df1 = df1[~df1['식품명'].str.match('^크래커_', na=False)]\n",
    "df1 = df1[~df1['식품명'].str.match('^초콜릿_', na=False)]\n",
    "df1 = df1[~(df1['식품대분류명'].str.match('장류, 양념류', na=False))]\n"
   ]
  },
  {
   "cell_type": "code",
   "execution_count": 16,
   "id": "c6077c05",
   "metadata": {},
   "outputs": [],
   "source": [
    "df1 = df1[~df1['식품명'].str.contains('비스킷/쿠키/크래커', na=False)]\n"
   ]
  },
  {
   "cell_type": "code",
   "execution_count": 18,
   "id": "5a963ed9",
   "metadata": {},
   "outputs": [],
   "source": [
    "df1 = df1[~df1['식품명'].str.contains('기타빵', na=False)]\n"
   ]
  },
  {
   "cell_type": "code",
   "execution_count": null,
   "id": "b6502f69",
   "metadata": {},
   "outputs": [],
   "source": []
  },
  {
   "cell_type": "code",
   "execution_count": 17,
   "id": "cd8c10a1",
   "metadata": {},
   "outputs": [],
   "source": [
    "df1.to_csv(\"20250408_음식DB_정제.csv\", index=False, encoding=\"utf-8-sig\")\n",
    "\n",
    "\n"
   ]
  },
  {
   "cell_type": "code",
   "execution_count": null,
   "id": "49368816",
   "metadata": {},
   "outputs": [],
   "source": []
  }
 ],
 "metadata": {
  "kernelspec": {
   "display_name": "hipython",
   "language": "python",
   "name": "python3"
  },
  "language_info": {
   "codemirror_mode": {
    "name": "ipython",
    "version": 3
   },
   "file_extension": ".py",
   "mimetype": "text/x-python",
   "name": "python",
   "nbconvert_exporter": "python",
   "pygments_lexer": "ipython3",
   "version": "3.12.9"
  }
 },
 "nbformat": 4,
 "nbformat_minor": 5
}
