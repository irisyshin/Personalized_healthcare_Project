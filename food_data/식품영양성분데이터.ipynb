{
 "cells": [
  {
   "cell_type": "code",
   "execution_count": 2,
   "id": "27f0caab",
   "metadata": {},
   "outputs": [
    {
     "name": "stdout",
     "output_type": "stream",
     "text": [
      "✅ food_id 생성 완료: 1057 rows\n",
      "    food_id food_name\n",
      "0  fr_00001       가래떡\n",
      "1  fr_00002       깨송편\n",
      "2  fr_00003        꿀떡\n",
      "3  fr_00004      모듬찰떡\n",
      "4  fr_00005       백설기\n"
     ]
    }
   ],
   "source": [
    "import pandas as pd\n",
    "\n",
    "# CSV 불러오기\n",
    "df = pd.read_csv(\"검색식품데이터.csv\", encoding=\"utf-8-sig\")\n",
    "\n",
    "# food_name이 비어있거나 NaN인 행 제거\n",
    "df = df.dropna(subset=[\"food_name\"])\n",
    "df = df[df[\"food_name\"].astype(str).str.strip() != \"\"]\n",
    "\n",
    "# food_id 새로 생성 (fr_00001, fr_00002, ...)\n",
    "df[\"food_id\"] = [f\"fr_{i:05d}\" for i in range(1, len(df) + 1)]\n",
    "\n",
    "# 저장\n",
    "df.to_csv(\"food_nutrition.csv\", index=False, encoding=\"utf-8-sig\")\n",
    "\n",
    "print(\"✅ food_id 생성 완료:\", len(df), \"rows\")\n",
    "print(df[[\"food_id\", \"food_name\"]].head())\n",
    "\n"
   ]
  },
  {
   "cell_type": "code",
   "execution_count": null,
   "id": "048aa9e6",
   "metadata": {},
   "outputs": [],
   "source": []
  },
  {
   "cell_type": "code",
   "execution_count": null,
   "id": "4d728a2e",
   "metadata": {},
   "outputs": [],
   "source": []
  },
  {
   "cell_type": "code",
   "execution_count": 3,
   "id": "6ff93e2f",
   "metadata": {},
   "outputs": [
    {
     "name": "stdout",
     "output_type": "stream",
     "text": [
      "Collecting shortuuid\n",
      "  Downloading shortuuid-1.0.13-py3-none-any.whl.metadata (5.8 kB)\n",
      "Downloading shortuuid-1.0.13-py3-none-any.whl (10 kB)\n",
      "Installing collected packages: shortuuid\n",
      "Successfully installed shortuuid-1.0.13\n",
      "Note: you may need to restart the kernel to use updated packages.\n"
     ]
    }
   ],
   "source": [
    "pip install shortuuid"
   ]
  },
  {
   "cell_type": "code",
   "execution_count": null,
   "id": "29ec3e8d",
   "metadata": {},
   "outputs": [],
   "source": []
  }
 ],
 "metadata": {
  "kernelspec": {
   "display_name": "hipython",
   "language": "python",
   "name": "python3"
  },
  "language_info": {
   "codemirror_mode": {
    "name": "ipython",
    "version": 3
   },
   "file_extension": ".py",
   "mimetype": "text/x-python",
   "name": "python",
   "nbconvert_exporter": "python",
   "pygments_lexer": "ipython3",
   "version": "3.12.9"
  }
 },
 "nbformat": 4,
 "nbformat_minor": 5
}
