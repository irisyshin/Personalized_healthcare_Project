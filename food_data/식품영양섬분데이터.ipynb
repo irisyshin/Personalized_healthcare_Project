{
 "cells": [
  {
   "cell_type": "code",
   "execution_count": null,
   "id": "27f0caab",
   "metadata": {},
   "outputs": [
    {
     "name": "stdout",
     "output_type": "stream",
     "text": [
      "shortuuid 추가 완료: 59797 rows\n",
      "   food_id\n",
      "0      NaN\n",
      "1      NaN\n",
      "2      NaN\n",
      "3      NaN\n",
      "4      NaN\n"
     ]
    }
   ],
   "source": [
    "import pandas as pd\n",
    "import shortuuid\n",
    "\n",
    "# CSV 불러오기\n",
    "df = pd.read_csv(\"food_nutrition_data.csv\")\n",
    "# food_name이 비어있거나 NaN인 행 제거\n",
    "df = df.dropna(subset=[\"food_name\"])\n",
    "df = df[df[\"food_name\"].astype(str).str.strip() != \"\"]\n",
    "\n",
    "# food_id 컬럼이 없거나 비어 있으면 새로 생성\n",
    "df[\"food_id\"] = [shortuuid.uuid() for _ in range(len(df))]\n",
    "\n",
    "# 저장\n",
    "df.to_csv(\"food_nutrition.csv\", index=False, encoding=\"utf-8-sig\")\n",
    "\n",
    "print(\"shortuuid 추가 완료:\", len(df), \"rows\")\n",
    "print(df[[\"food_id\"]].head())\n",
    "\n"
   ]
  },
  {
   "cell_type": "code",
   "execution_count": null,
   "id": "048aa9e6",
   "metadata": {},
   "outputs": [],
   "source": []
  },
  {
   "cell_type": "code",
   "execution_count": null,
   "id": "4d728a2e",
   "metadata": {},
   "outputs": [],
   "source": []
  },
  {
   "cell_type": "code",
   "execution_count": 3,
   "id": "6ff93e2f",
   "metadata": {},
   "outputs": [
    {
     "name": "stdout",
     "output_type": "stream",
     "text": [
      "Collecting shortuuid\n",
      "  Downloading shortuuid-1.0.13-py3-none-any.whl.metadata (5.8 kB)\n",
      "Downloading shortuuid-1.0.13-py3-none-any.whl (10 kB)\n",
      "Installing collected packages: shortuuid\n",
      "Successfully installed shortuuid-1.0.13\n",
      "Note: you may need to restart the kernel to use updated packages.\n"
     ]
    }
   ],
   "source": [
    "pip install shortuuid"
   ]
  },
  {
   "cell_type": "code",
   "execution_count": null,
   "id": "29ec3e8d",
   "metadata": {},
   "outputs": [],
   "source": []
  }
 ],
 "metadata": {
  "kernelspec": {
   "display_name": "hipython",
   "language": "python",
   "name": "python3"
  },
  "language_info": {
   "codemirror_mode": {
    "name": "ipython",
    "version": 3
   },
   "file_extension": ".py",
   "mimetype": "text/x-python",
   "name": "python",
   "nbconvert_exporter": "python",
   "pygments_lexer": "ipython3",
   "version": "3.12.9"
  }
 },
 "nbformat": 4,
 "nbformat_minor": 5
}
