{
 "cells": [
  {
   "cell_type": "code",
   "execution_count": 1,
   "id": "618ddfde",
   "metadata": {},
   "outputs": [
    {
     "name": "stdout",
     "output_type": "stream",
     "text": [
      "   RCP_SNO                                RCP_TTL  CKG_NM    RGTR_ID RGTR_NM  \\\n",
      "0  7016813                       멸치육수 소고기 떡국 만드는법   소고기떡국  ranch6356    반이짝이   \n",
      "1  7016814  #수육용삼겹살 #된장수육만들기 #일상먹거리 #무생채와함께먹는된장수육    된장수육   kstencil    강철새잎   \n",
      "2  7016815                       우거지감자탕 뼈해장국 끓이는법  우거지감자탕   87771622     김한솔   \n",
      "3  7016816    만두전골 레시피 백종원 만두 전골요리 뜨끈하고 진한 국물이 일품    만두전골   aeaelove   춤추는루나   \n",
      "4  7016817     새해 통삼겹살 무수분 보쌈 삶는법 백종원 보쌈 마늘소스 만들기   무수분보쌈   aeaelove   춤추는루나   \n",
      "\n",
      "   INQ_CNT  RCMM_CNT  SRAP_CNT CKG_MTH_ACTO_NM CKG_STA_ACTO_NM  \\\n",
      "0      743         0         2             끓이기              명절   \n",
      "1     1396         0         1              삶기             술안주   \n",
      "2     4008         0        29             끓이기              해장   \n",
      "3     6350         0         6             끓이기            손님접대   \n",
      "4     1829         0         6              삶기            손님접대   \n",
      "\n",
      "  CKG_MTRL_ACTO_NM CKG_KND_ACTO_NM  \\\n",
      "0              소고기             국/탕   \n",
      "1             돼지고기            메인반찬   \n",
      "2             돼지고기             국/탕   \n",
      "3            가공식품류             국/탕   \n",
      "4             돼지고기            메인반찬   \n",
      "\n",
      "                                            CKG_IPDC  \\\n",
      "0  새해가 되면 뜨끈한 떡국 한 그릇이 생각나는데요. 오늘은 집에서 간단하게 요리할 수...   \n",
      "1  수육용 삼겹살을 사다가 된장과 술을 넣고 일상먹거리 수육한접시를 만들어 주었습니다....   \n",
      "2  까다로운 남편의 입맛을 맞추기위해 여러번 시도끝에 만들어낸 최적의 레시피입니다. 한...   \n",
      "3  속이 꽉 찬 만두가 듬뿍 푸짐한 백종원 만두전골 만두전골 레시피 만두 요리는 다양한...   \n",
      "4  촉촉하고 부드러운 통삼겹살 무수분 보쌈 삶는법 무수분 보쌈 삶는 시간 백종원 보쌈 ...   \n",
      "\n",
      "                                         CKG_MTRL_CN CKG_INBUN_NM CKG_DODF_NM  \\\n",
      "0  [재료] 떡국떡\u0007400\u0007g\u0007| 다진소고기\u0007100\u0007g\u0007| 멸치육수\u0007800\u0007ml\u0007| 대...          2인분          초급   \n",
      "1  [재료] 돼지고기 수육용삼겹살\u0007500\u0007g\u0007| 된장\u00071.5\u0007큰술\u0007| 술\u00074\u0007큰술\u0007| ...          2인분         아무나   \n",
      "2  [재료] 돼지등뼈\u00071.5\u0007kg\u0007| 양파\u00071/2\u0007개\u0007| 감자\u00071\u0007개\u0007| 대파\u00071\u0007대\u0007...          4인분          중급   \n",
      "3  [재료] 만두\u000712\u0007개\u0007| 청경채\u00073\u0007개\u0007| 양파\u00071/2\u0007개\u0007| 대파\u00071/2\u0007개\u0007|...          4인분          초급   \n",
      "4  [재료] 통삼겹살\u0007600\u0007g\u0007| 양파\u00071\u0007개\u0007| 못난이 사과 小\u00072\u0007개\u0007| 대파\u00072...          4인분          초급   \n",
      "\n",
      "  CKG_TIME_NM    FIRST_REG_DT  \\\n",
      "0         NaN  20240101000857   \n",
      "1       2시간이내  20240101002917   \n",
      "2       2시간이내  20240101020501   \n",
      "3       60분이내  20240101073609   \n",
      "4       90분이내  20240101074507   \n",
      "\n",
      "                                         RCP_IMG_URL  \n",
      "0  https://recipe1.ezmember.co.kr/cache/recipe/20...  \n",
      "1  https://recipe1.ezmember.co.kr/cache/recipe/20...  \n",
      "2  https://recipe1.ezmember.co.kr/cache/recipe/20...  \n",
      "3  https://recipe1.ezmember.co.kr/cache/recipe/20...  \n",
      "4  https://recipe1.ezmember.co.kr/cache/recipe/20...  \n"
     ]
    }
   ],
   "source": [
    "import pandas as pd\n",
    "\n",
    "df = pd.read_csv('TB_RECIPE_SEARCH_241226.csv', encoding='utf-8')\n",
    "print(df.head())\n"
   ]
  },
  {
   "cell_type": "code",
   "execution_count": null,
   "id": "9d44aa43",
   "metadata": {},
   "outputs": [],
   "source": []
  }
 ],
 "metadata": {
  "kernelspec": {
   "display_name": "hipython",
   "language": "python",
   "name": "python3"
  },
  "language_info": {
   "codemirror_mode": {
    "name": "ipython",
    "version": 3
   },
   "file_extension": ".py",
   "mimetype": "text/x-python",
   "name": "python",
   "nbconvert_exporter": "python",
   "pygments_lexer": "ipython3",
   "version": "3.12.9"
  }
 },
 "nbformat": 4,
 "nbformat_minor": 5
}
