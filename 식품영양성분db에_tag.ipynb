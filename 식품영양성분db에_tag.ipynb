{
 "cells": [
  {
   "cell_type": "markdown",
   "id": "00945a83",
   "metadata": {},
   "source": [
    "# 식품영양성분_with_tags.csv => Pinecone에 적재 후 LLM 호출"
   ]
  },
  {
   "cell_type": "code",
   "execution_count": 5,
   "id": "c40b19c2",
   "metadata": {},
   "outputs": [],
   "source": [
    "import os\n",
    "import pandas as pd\n",
    "from tqdm import tqdm\n",
    "from dotenv import load_dotenv\n",
    "from pinecone import Pinecone, ServerlessSpec\n",
    "from openai import OpenAI "
   ]
  },
  {
   "cell_type": "code",
   "execution_count": 6,
   "id": "5f83bd99",
   "metadata": {},
   "outputs": [],
   "source": [
    "load_dotenv()\n",
    "OPENAI_API_KEY = os.getenv(\"OPENAI_API_KEY\")\n",
    "PINECONE_API_KEY = os.getenv(\"PINECONE_API_KEY\")"
   ]
  },
  {
   "cell_type": "code",
   "execution_count": 8,
   "id": "3564bcf4",
   "metadata": {},
   "outputs": [
    {
     "name": "stdout",
     "output_type": "stream",
     "text": [
      "🍱 총 548개 로드 / 컬럼 예시: ['food_id', 'food_name', 'ref_amount', 'energy_kcal', 'protein_g', 'fat_g', 'carb_g', 'sugar_g', 'sodium_mg', 'chol_mg']\n"
     ]
    }
   ],
   "source": [
    "assert OPENAI_API_KEY and PINECONE_API_KEY, \"API 키를 .env에 설정하세요.\"\n",
    "\n",
    "# OpenAI / Pinecone 클라이언트\n",
    "oai = OpenAI(api_key=OPENAI_API_KEY)\n",
    "pc  = Pinecone(api_key=PINECONE_API_KEY)\n",
    "\n",
    "INDEX_NAME = \"food-test1\"   # 인덱스 이름\n",
    "NAMESPACE  = \"foods-ns1\"    # namespace (선택)\n",
    "\n",
    "# 인덱스 생성(없으면)\n",
    "try:\n",
    "    # v5 SDK: .names() 지원\n",
    "    names = pc.list_indexes().names()\n",
    "except Exception:\n",
    "    # 구버전 호환\n",
    "    names = [x.name for x in pc.list_indexes()]\n",
    "\n",
    "if INDEX_NAME not in names:\n",
    "    pc.create_index(\n",
    "        name=INDEX_NAME,\n",
    "        dimension=1536,             # text-embedding-3-small 차원\n",
    "        metric=\"cosine\",\n",
    "        spec=ServerlessSpec(cloud=\"aws\", region=\"us-east-1\"),\n",
    "    )\n",
    "\n",
    "index = pc.Index(INDEX_NAME)\n",
    "\n",
    "# 전처리 완료 CSV 경로(파일명 꼭 확인!)\n",
    "CSV_PATH = \"식품영양성분_with_tags.csv\"  # ← 네가 마지막에 만든 파일명으로\n",
    "df = pd.read_csv(CSV_PATH, encoding=\"utf-8-sig\")\n",
    "print(f\"🍱 총 {len(df)}개 로드 / 컬럼 예시: {list(df.columns)[:10]}\")"
   ]
  },
  {
   "cell_type": "code",
   "execution_count": 9,
   "id": "701f5b1f",
   "metadata": {},
   "outputs": [],
   "source": [
    "def make_text(row):\n",
    "    return f\"\"\"\n",
    "    음식명: {row['food_name']} ({row['ref_amount']}g 기준)\n",
    "    칼로리: {row['energy_kcal']}kcal\n",
    "    단백질: {row['protein_g']}g, 지방: {row['fat_g']}g, 탄수화물: {row['carb_g']}g, 당: {row['sugar_g']}g\n",
    "    나트륨: {row['sodium_mg']}mg, 콜레스테롤: {row['chol_mg']}mg\n",
    "    포화지방: {row['sat_fat_g']}g, 트랜스지방: {row['trans_fat_g']}g\n",
    "    중량: {row['food_weight']}g\n",
    "    \"\"\".strip()\n",
    "# ----------------------------\n",
    "#  메타데이터 구성 함수 수정 (영양 정보 추가)\n",
    "# ----------------------------\n",
    "def make_metadata(row):\n",
    "    return {\n",
    "        \"norm_tags\": row.get(\"norm_tags\", \"\"),\n",
    "        \"display_tags\": row.get(\"display_tags\", \"\"),\n",
    "        \"content\": row.get(\"content\", \"\"),\n",
    "        \"food_name\": row.get(\"food_name\", \"\"),\n",
    "        \"energy_kcal\": row.get(\"energy_kcal\", 0.0),\n",
    "        \"protein_g\": row.get(\"protein_g\", 0.0),\n",
    "        \"fat_g\": row.get(\"fat_g\", 0.0),\n",
    "        \"carb_g\": row.get(\"carb_g\", 0.0),\n",
    "        \"food_weight\": row.get(\"food_weight\", 0.0),\n",
    "    }\n"
   ]
  },
  {
   "cell_type": "code",
   "execution_count": 10,
   "id": "eb3eb635",
   "metadata": {},
   "outputs": [
    {
     "name": "stderr",
     "output_type": "stream",
     "text": [
      "🍽️ Pinecone 업로드 중:  17%|█▋        | 1/6 [00:16<01:20, 16.13s/it]"
     ]
    },
    {
     "name": "stdout",
     "output_type": "stream",
     "text": [
      "  → 100/548 업로드 완료\n"
     ]
    },
    {
     "name": "stderr",
     "output_type": "stream",
     "text": [
      "🍽️ Pinecone 업로드 중:  33%|███▎      | 2/6 [00:20<00:36,  9.23s/it]"
     ]
    },
    {
     "name": "stdout",
     "output_type": "stream",
     "text": [
      "  → 200/548 업로드 완료\n"
     ]
    },
    {
     "name": "stderr",
     "output_type": "stream",
     "text": [
      "🍽️ Pinecone 업로드 중:  50%|█████     | 3/6 [00:25<00:21,  7.11s/it]"
     ]
    },
    {
     "name": "stdout",
     "output_type": "stream",
     "text": [
      "  → 300/548 업로드 완료\n"
     ]
    },
    {
     "name": "stderr",
     "output_type": "stream",
     "text": [
      "🍽️ Pinecone 업로드 중:  67%|██████▋   | 4/6 [00:30<00:12,  6.37s/it]"
     ]
    },
    {
     "name": "stdout",
     "output_type": "stream",
     "text": [
      "  → 400/548 업로드 완료\n"
     ]
    },
    {
     "name": "stderr",
     "output_type": "stream",
     "text": [
      "🍽️ Pinecone 업로드 중:  83%|████████▎ | 5/6 [00:35<00:06,  6.10s/it]"
     ]
    },
    {
     "name": "stdout",
     "output_type": "stream",
     "text": [
      "  → 500/548 업로드 완료\n"
     ]
    },
    {
     "name": "stderr",
     "output_type": "stream",
     "text": [
      "🍽️ Pinecone 업로드 중: 100%|██████████| 6/6 [00:38<00:00,  6.36s/it]"
     ]
    },
    {
     "name": "stdout",
     "output_type": "stream",
     "text": [
      "  → 548/548 업로드 완료\n",
      "\n",
      "✅ Pinecone 업로드 완료! (548개 항목, namespace='foods-ns1')\n"
     ]
    },
    {
     "name": "stderr",
     "output_type": "stream",
     "text": [
      "\n"
     ]
    }
   ],
   "source": [
    "# ----------------------------\n",
    "#  Pinecone 배치 업로드\n",
    "# ----------------------------\n",
    "client = oai\n",
    "batch_size = 100  # 🚀 한번에 100개씩 임베딩 + 업로드\n",
    "for i in tqdm(range(0, len(df), batch_size), desc=\"🍽️ Pinecone 업로드 중\"):\n",
    "    batch = df.iloc[i:i + batch_size]\n",
    "\n",
    "    # 1. 텍스트 리스트 생성\n",
    "    batch_texts = [make_text(row) for _, row in batch.iterrows()]\n",
    "\n",
    "    # 2. OpenAI에 배치 임베딩 요청 (한 번에 100개)\n",
    "    response = client.embeddings.create(\n",
    "        model=\"text-embedding-3-small\",\n",
    "        input=batch_texts\n",
    "    )\n",
    "    embeddings = [d.embedding for d in response.data]\n",
    "\n",
    "    # 3. Pinecone 벡터 리스트 구성\n",
    "    batch_vectors = []\n",
    "    for (idx, row), emb in zip(batch.iterrows(), embeddings):\n",
    "        meta = make_metadata(row)\n",
    "        batch_vectors.append({\n",
    "            \"id\": str(row[\"food_id\"]),\n",
    "            \"values\": emb,\n",
    "            \"metadata\": meta\n",
    "        })\n",
    "\n",
    "    # 4. Pinecone 업서트 (namespace 지정)\n",
    "    index.upsert(vectors=batch_vectors, namespace=NAMESPACE)\n",
    "\n",
    "    print(f\"  → {i + len(batch_vectors)}/{len(df)} 업로드 완료\")\n",
    "\n",
    "print(f\"\\n✅ Pinecone 업로드 완료! ({len(df)}개 항목, namespace='{NAMESPACE}')\")"
   ]
  },
  {
   "cell_type": "code",
   "execution_count": 11,
   "id": "7db5edc6",
   "metadata": {},
   "outputs": [],
   "source": [
    "import warnings\n",
    "warnings.filterwarnings(\"ignore\")"
   ]
  },
  {
   "cell_type": "code",
   "execution_count": 12,
   "id": "21d2fdf8",
   "metadata": {},
   "outputs": [],
   "source": [
    "from langchain_openai import ChatOpenAI\n",
    "from langchain.prompts import PromptTemplate\n",
    "from langchain.chains import LLMChain"
   ]
  },
  {
   "cell_type": "code",
   "execution_count": 13,
   "id": "488eeda7",
   "metadata": {},
   "outputs": [],
   "source": [
    "llm = ChatOpenAI(\n",
    "    model=\"gpt-4o-mini\",\n",
    "    temperature=0.7, \n",
    "    max_tokens=1024, \n",
    "    openai_api_key=OPENAI_API_KEY,\n",
    ")"
   ]
  },
  {
   "cell_type": "markdown",
   "id": "7f441a5a",
   "metadata": {},
   "source": [
    "### 아래 두 셀은 실행 X -> 바로 수정된 프롬프트로 넘어가기"
   ]
  },
  {
   "cell_type": "code",
   "execution_count": null,
   "id": "04dfb20f",
   "metadata": {},
   "outputs": [],
   "source": [
    "import datetime\n",
    "today = datetime.date.today().strftime(\"%Y-%m-%d\")\n",
    "\n",
    "prompt_template = f\"\"\"\n",
    "당신은 최고 수준의 영양사이며, 사용자 요청 조건과 한국인의 일반적인 식습관을 고려하여 식단을 구성합니다.\n",
    "\n",
    "**핵심 규칙:**\n",
    "1. 출력은 오직 <출력 예시>의 **형태와 패턴**을 **한 글자도 틀리지 않고** 엄격히 준수해야 합니다.\n",
    "2. 절대 마크다운(**, ## 등)이나 불필요한 구분선을 사용하지 마세요.\n",
    "3. [음식의 조화]: 각 후보는 **최소 3가지 이상의 음식**을 포함하는 조화로운 조합이어야 합니다.\n",
    "4. [칼로리]: 아침, 점심, 저녁의 총합 칼로리가 1800kcal ~ 2500kcal 사이에 오도록 스스로 계산을 완료하세요. \"조정 필요\" 문구는 절대 금지합니다.\n",
    "5. 절대 간식을 추가하지 마세요. 모든 음식은 <참고 문서>에서 찾은 음식만 사용하세요. 브랜드명은 제거하세요.\n",
    "\n",
    "<참고 문서> (음식명, 총 칼로리, 영양 정보 등)\n",
    "{{context}}\n",
    "\n",
    "<사용자 요청>\n",
    "{{query}}\n",
    "\n",
    "<출력 예시> (반드시 이 형식의 텍스트 패턴을 따르세요. 실제 날짜와 칼로리를 계산하여 대체하세요.)\n",
    "< {today} 식단 추천 >\n",
    "아침\n",
    "후보1 : 현미밥 + 닭가슴살 + 시금치나물 (총 550 kcal)\n",
    "후보2 : 오트밀 + 삶은 계란 + 저지방우유 (총 480 kcal)\n",
    "후보3 : 곤드레밥 + 소고기미역국 + 깍두기 (총 650 kcal)\n",
    "점심\n",
    "후보1 : 잡곡밥 + 제육볶음 + 콩나물국 (총 800 kcal)\n",
    "후보2 : 치킨텐더샐러드 + 통밀빵 + 요거트 (총 750 kcal)\n",
    "후보3 : 김치찌개 + 두부부침 + 흑미밥 (총 780 kcal)\n",
    "저녁\n",
    "후보1 : 연어스테이크 + 구운채소 + 렌틸콩수프 (총 600 kcal)\n",
    "후보2 : 현미밥 + 멸치볶음 + 미역국 + 달걀후라이 (총 630 kcal)\n",
    "후보3 : 닭가슴살 볶음밥 + 단백질쉐이크 (총 650 kcal)\n",
    "이유 : 근육 증진을 위해 고단백과 건강한 지방 위주로 구성하였으며, 나트륨을 낮게 유지하여 건강을 고려했습니다. 하루 총 칼로리는 [계산된 총합 칼로리]kcal 입니다.\n",
    "\"\"\""
   ]
  },
  {
   "cell_type": "code",
   "execution_count": null,
   "id": "6b8e9177",
   "metadata": {},
   "outputs": [],
   "source": [
    "# -----------------------------\n",
    "# 3️⃣ Pinecone 검색 후 Context 구성 (LLM이 계산 및 조합하도록)\n",
    "# -----------------------------\n",
    "# 쿼리 예시\n",
    "query = \"근육증진형, 고단백, 고지방, 저나트륨 식단 중심으로, 아침/점심/저녁 세 끼만 추천해줘. 각 끼니별로 3가지의 완벽한 식사 조합을 만들고, 하루 총 칼로리가 1800~2500kcal 사이에 오도록 정확히 계산해줘.\"\n",
    "\n",
    "query_emb = client.embeddings.create(\n",
    "    model=\"text-embedding-3-small\",\n",
    "    input=query\n",
    ").data[0].embedding\n",
    "\n",
    "results = index.query(\n",
    "    vector=query_emb,\n",
    "    top_k=50,\n",
    "    namespace=\"foods-ns1\",\n",
    "    include_metadata=True\n",
    ")\n",
    "\n",
    "# Context 구성 수정: 'food_weight' 키 제거\n",
    "context = \"\\n\".join([\n",
    "    f\"음식명: {m['metadata']['food_name']}, \" \n",
    "    f\"칼로리(총): {m['metadata']['energy_kcal']}kcal, \"\n",
    "    f\"단백질: {m['metadata']['protein_g']}g, \"\n",
    "    f\"지방: {m['metadata']['fat_g']}g, \"\n",
    "    f\"탄수화물: {m['metadata']['carb_g']}g, \" \n",
    "    f\"태그: {m['metadata']['display_tags']}\"\n",
    "    for m in results[\"matches\"]\n",
    "])\n",
    "\n",
    "# -----------------------------\n",
    "# 4️⃣ LLM 실행 코드는 그대로 유지\n",
    "# -----------------------------\n",
    "chain = LLMChain(llm=llm, prompt=template)\n",
    "response = chain.run({\"context\": context, \"query\": query})\n",
    "\n",
    "print(\" 추천 결과:\")\n",
    "print(response)"
   ]
  },
  {
   "cell_type": "markdown",
   "id": "bdf0ac75",
   "metadata": {},
   "source": [
    "# 수정된 프롬프트"
   ]
  },
  {
   "cell_type": "code",
   "execution_count": 14,
   "id": "bc3975ea",
   "metadata": {},
   "outputs": [],
   "source": [
    "import datetime\n",
    "today = datetime.date.today().strftime(\"%Y-%m-%d\")\n",
    "\n",
    "# 4) 프롬프트 템플릿\n",
    "prompt_template_str = \"\"\"\n",
    "당신은 최고 수준의 영양사이며, 사용자 요청 조건과 한국인의 일반적인 식습관을 고려하여 식단을 구성합니다.\n",
    "\n",
    "핵심 규칙:\n",
    "1. 출력은 오직 <출력 예시>의 형태와 패턴을 한 글자도 틀리지 않고 엄격히 준수해야 합니다.\n",
    "2. 절대 마크다운(**, ## 등)이나 불필요한 구분선을 사용하지 마세요.\n",
    "3. [음식의 조화]: 각 후보는 최소 3가지 이상의 음식을 포함하는 조화로운 조합이어야 합니다.\n",
    "4. [칼로리]: 아침, 점심, 저녁의 총합 칼로리가 1800kcal ~ 2500kcal 사이에 오도록 스스로 계산을 완료하세요. \"조정 필요\" 문구는 절대 금지합니다.\n",
    "5. 모든 음식은 <참고 문서>에서 찾은 음식만 사용하세요. 브랜드명은 제거하세요.\n",
    "\n",
    "<참고 문서> (음식명, 총 칼로리, 영양 정보 등)\n",
    "{context}\n",
    "\n",
    "<사용자 요청>\n",
    "{query}\n",
    "\n",
    "<출력 예시>\n",
    "< {today} 식단 추천 >\n",
    "아침\n",
    "후보1 : 현미밥 + 닭가슴살 + 시금치나물 (총 550 kcal)\n",
    "후보2 : 오트밀 + 삶은 계란 + 저지방우유 (총 480 kcal)\n",
    "후보3 : 곤드레밥 + 소고기미역국 + 깍두기 (총 650 kcal)\n",
    "점심\n",
    "후보1 : 잡곡밥 + 제육볶음 + 콩나물국 (총 800 kcal)\n",
    "후보2 : 치킨텐더샐러드 + 통밀빵 + 요거트 (총 750 kcal)\n",
    "후보3 : 김치찌개 + 두부부침 + 흑미밥 (총 780 kcal)\n",
    "저녁\n",
    "후보1 : 연어스테이크 + 구운채소 + 렌틸콩수프 (총 600 kcal)\n",
    "후보2 : 현미밥 + 멸치볶음 + 미역국 + 달걀후라이 (총 630 kcal)\n",
    "후보3 : 닭가슴살 볶음밥 + 단백질쉐이크 (총 650 kcal)\n",
    "이유 : 근육 증진을 위해 고단백과 건강한 지방 위주로 구성하였으며, 나트륨을 낮게 유지하여 건강을 고려했습니다. 하루 총 칼로리는 [계산된 총합 칼로리]kcal 입니다.\n",
    "\"\"\".strip()\n",
    "\n",
    "template = PromptTemplate(\n",
    "    template=prompt_template_str,\n",
    "    input_variables=[\"context\", \"query\", \"today\"]\n",
    ")"
   ]
  },
  {
   "cell_type": "code",
   "execution_count": 15,
   "id": "efc0e433",
   "metadata": {},
   "outputs": [
    {
     "name": "stderr",
     "output_type": "stream",
     "text": [
      "C:\\Users\\Admin\\AppData\\Local\\Temp\\ipykernel_23804\\2397249659.py:37: LangChainDeprecationWarning: The class `LLMChain` was deprecated in LangChain 0.1.17 and will be removed in 1.0. Use :meth:`~RunnableSequence, e.g., `prompt | llm`` instead.\n",
      "  chain = LLMChain(llm=llm, prompt=template)\n",
      "C:\\Users\\Admin\\AppData\\Local\\Temp\\ipykernel_23804\\2397249659.py:38: LangChainDeprecationWarning: The method `Chain.run` was deprecated in langchain 0.1.0 and will be removed in 1.0. Use :meth:`~invoke` instead.\n",
      "  response = chain.run({\"context\": context, \"query\": user_query, \"today\": today})\n"
     ]
    },
    {
     "name": "stdout",
     "output_type": "stream",
     "text": [
      "추천 결과:\n",
      "< 2025-10-16 식단 추천 >\n",
      "아침  \n",
      "후보1 : 잡곡밥 + 오징어채볶음 + 달걀라면 (총 570 kcal)  \n",
      "후보2 : 검정콩밥 + 땅콩조림 + 열무된장나물 (총 570 kcal)  \n",
      "후보3 : 현미밥 + 멸치볶음 + 오리백숙 (총 640 kcal)  \n",
      "점심  \n",
      "후보1 : 떡볶이 + 잡채 + 조미김 (총 800 kcal)  \n",
      "후보2 : 고등어석쇠구이 + 잡곡밥 + 미역줄기볶음 (총 780 kcal)  \n",
      "후보3 : 오징어조림 + 검정콩밥 + 부추전 (총 650 kcal)  \n",
      "저녁  \n",
      "후보1 : 간장양념닭다리구이 + 현미밥 + 당근볶음 (총 600 kcal)  \n",
      "후보2 : 오징어채조림 + 잡곡밥 + 열무나물 (총 700 kcal)  \n",
      "후보3 : 오징어덮밥 + 멸치볶음 + 묵은지삼겹살볶음 (총 640 kcal)  \n",
      "이유 : 근육 증진을 위해 고단백과 건강한 지방 위주로 구성하였으며, 나트륨을 낮게 유지하여 건강을 고려했습니다. 하루 총 칼로리는 2300kcal 입니다.\n"
     ]
    }
   ],
   "source": [
    "# 5) Pinecone 검색 → context 구성\n",
    "user_query = \"근육증진형, 고단백, 고지방, 저나트륨 식단 중심으로, 아침/점심/저녁 세 끼만 추천해줘. 각 끼니별로 3가지의 완벽한 식사 조합을 만들고, 하루 총 칼로리가 1800~2500kcal 사이에 오도록 정확히 계산해줘.\"\n",
    "\n",
    "# 임베딩 (OpenAI 클라이언트는 oai 사용)\n",
    "qv = oai.embeddings.create(\n",
    "    model=\"text-embedding-3-small\",\n",
    "    input=user_query\n",
    ").data[0].embedding\n",
    "\n",
    "# Pinecone 쿼리 (결과 표준화)\n",
    "res = index.query(\n",
    "    vector=qv,\n",
    "    top_k=50,\n",
    "    namespace=NAMESPACE,\n",
    "    include_metadata=True\n",
    ")\n",
    "res = res.to_dict() if hasattr(res, \"to_dict\") else res\n",
    "matches = res.get(\"matches\", [])\n",
    "\n",
    "# context 문자열 만들기 (결측 방어)\n",
    "lines = []\n",
    "for m in matches:\n",
    "    md = m.get(\"metadata\", {}) or {}\n",
    "    name = str(md.get(\"food_name\", \"\")).strip()\n",
    "    kcal = md.get(\"energy_kcal\", \"\")\n",
    "    pro  = md.get(\"protein_g\", \"\")\n",
    "    fat  = md.get(\"fat_g\", \"\")\n",
    "    carb = md.get(\"carb_g\", \"\")\n",
    "    disp = md.get(\"display_tags\", \"\")\n",
    "    if name:  # 이름이 있는 것만\n",
    "        lines.append(\n",
    "            f\"음식명: {name}, 칼로리(총): {kcal}kcal, 단백질: {pro}g, 지방: {fat}g, 탄수화물: {carb}g, 태그: {disp}\"\n",
    "        )\n",
    "context = \"\\n\".join(lines)\n",
    "\n",
    "# 6) LLM 실행\n",
    "chain = LLMChain(llm=llm, prompt=template)\n",
    "response = chain.run({\"context\": context, \"query\": user_query, \"today\": today})\n",
    "\n",
    "print(\"추천 결과:\")\n",
    "print(response)"
   ]
  },
  {
   "cell_type": "code",
   "execution_count": null,
   "id": "431e7de1",
   "metadata": {},
   "outputs": [],
   "source": []
  }
 ],
 "metadata": {
  "kernelspec": {
   "display_name": "prompting_env",
   "language": "python",
   "name": "python3"
  },
  "language_info": {
   "codemirror_mode": {
    "name": "ipython",
    "version": 3
   },
   "file_extension": ".py",
   "mimetype": "text/x-python",
   "name": "python",
   "nbconvert_exporter": "python",
   "pygments_lexer": "ipython3",
   "version": "3.12.11"
  }
 },
 "nbformat": 4,
 "nbformat_minor": 5
}
