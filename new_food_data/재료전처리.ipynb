{
 "cells": [
  {
   "cell_type": "code",
   "execution_count": 21,
   "id": "4a2bb0eb",
   "metadata": {},
   "outputs": [],
   "source": [
    "import re\n",
    "\n",
    "def make_ingredient_dict(ingredient_list):\n",
    "    \"\"\"\n",
    "    재료 리스트를 {'재료명': '양/단위'} 형태의 딕셔너리로 변환.\n",
    "    연속된 공백(2칸 이상)을 기준으로 재료명과 단위를 구분하며,\n",
    "    숫자나 '약간', '적당히', '손가락 길이' 등 표현도 단위로 포함.\n",
    "    \"\"\"\n",
    "    ingredient_dict = {}\n",
    "\n",
    "    # 단위로 간주할 표현들\n",
    "    amount_keywords = [\n",
    "        '약간', '적당히', '조금', '큼직하게', '솔솔', '톡톡', '적당량', '한줌', '한스푼',\n",
    "        '보통사이즈', '작은거', '작', '큰캔', '선택사항', '생략가능', '크게', '깍아서',\n",
    "        '보통', '보통크기', '중간크기', '중간사이즈', '또는', '손가락길이', '손가락 길이',\n",
    "        '길이', '정도', '약', '소량', '듬뿍', '넉넉히', '취향껏', '원하는만큼', '맘껏', '기호에맞게', '필요한만큼',\n",
    "        '적당량으로', '한줌정도', '중간거', '많이', '큰거', '살짝', '넉넉히', '채썬것', \n",
    "        '중간것', '큰것', '팍팍', 'or', '선택', '기호에따라', '기호에따라서', '작은거'\n",
    "        \n",
    "    ]\n",
    "\n",
    "    # 숫자 or 키워드 기반 단위 패턴\n",
    "    amount_pattern = re.compile(\n",
    "        r'('\n",
    "        r'(?:\\d[\\d\\/\\.\\~]*\\s*[가-힣A-Za-z]+)'  # ex: 1/2컵, 2큰술\n",
    "        + '|' + '|'.join(amount_keywords) +     # ex: 약간, 손가락 길이\n",
    "        r')'\n",
    "    )\n",
    "\n",
    "    for item in ingredient_list:\n",
    "        if not item or not isinstance(item, str):\n",
    "            continue\n",
    "\n",
    "        # 1️⃣ 연속된 공백 기준으로 split 시도\n",
    "        parts = re.split(r'\\s{2,}', item.strip())\n",
    "        if len(parts) == 2:\n",
    "            name, raw_amount = parts[0].strip(), parts[1].strip()\n",
    "        else:\n",
    "            # 연속 공백이 없는 경우, 기존 로직으로 처리\n",
    "            parts = re.split(\n",
    "                r'\\s*(?=\\d|'\n",
    "                + '|'.join(amount_keywords)\n",
    "                + r')', item\n",
    "            )\n",
    "            name = parts[0].strip()\n",
    "            matches = amount_pattern.findall(item)\n",
    "            raw_amount = ' '.join(matches).strip() if matches else \"\"\n",
    "\n",
    "        # 2️⃣ 불필요 문자 제거\n",
    "        name = re.sub(r'[^가-힣A-Za-z0-9\\s]', '', name).strip()\n",
    "        raw_amount = raw_amount.replace('  ', ' ').strip()\n",
    "\n",
    "        if name:\n",
    "            ingredient_dict[name] = raw_amount or None\n",
    "\n",
    "    return ingredient_dict\n"
   ]
  },
  {
   "cell_type": "code",
   "execution_count": null,
   "id": "d1292010",
   "metadata": {},
   "outputs": [
    {
     "name": "stdout",
     "output_type": "stream",
     "text": [
      "✅ 순서 그대로 각 레시피에 재료가 정확히 매칭되었습니다!\n"
     ]
    }
   ],
   "source": [
    "import pandas as pd\n",
    "import ast\n",
    "\n",
    "# ===============================\n",
    "# 2️⃣ CSV 불러오기 + 변환\n",
    "# ===============================\n",
    "df = pd.read_csv(\"recipe_by_type.csv\")\n",
    "\n",
    "processed_ingredients = []\n",
    "\n",
    "for idx, row in df.iterrows():\n",
    "    try:\n",
    "        ingredient_list = ast.literal_eval(row['ingredient_full'])\n",
    "        cleaned_dict = make_ingredient_dict(ingredient_list)\n",
    "        processed_ingredients.append(cleaned_dict)\n",
    "    except Exception as e:\n",
    "        print(f\"❌ {row.get('recipe_nm_ko', 'Unknown')} 처리 중 오류: {e}\")\n",
    "        processed_ingredients.append(None)\n",
    "\n",
    "# 🔹 순서 그대로 (ID나 index 순서 유지)\n",
    "df['ingredient_full'] = processed_ingredients\n",
    "\n",
    "# 🔹 저장\n",
    "df.to_csv(\"recipe_by_type_cleaned.csv\", index=False, encoding=\"utf-8-sig\")\n",
    "print(\"순서 그대로 각 레시피에 재료가 정확히 매칭되었습니다!\")"
   ]
  },
  {
   "cell_type": "markdown",
   "id": "986f74ea",
   "metadata": {},
   "source": [
    "-----------------------------------------------------------"
   ]
  },
  {
   "cell_type": "code",
   "execution_count": null,
   "id": "4b7b506c",
   "metadata": {},
   "outputs": [],
   "source": [
    "# -------------------------------\n",
    "# ✅ 2️⃣ 레시피 단건 처리 함수, 크롤링 해올떄 사용할 수 있는 함수 \n",
    "# -------------------------------\n",
    "def process_single_recipe(recipe_name, ingredient_full_str):\n",
    "    \"\"\"\n",
    "    크롤링 중 레시피 1개씩 들어올 때\n",
    "    ingredient_full을 dict로 변환해주는 함수\n",
    "    \"\"\"\n",
    "    try:\n",
    "        ingredient_list = ast.literal_eval(ingredient_full_str)\n",
    "        cleaned_dict = make_ingredient_dict(ingredient_list)\n",
    "        print(f\"✅ '{recipe_name}' 재료 정제 완료\")\n",
    "        return cleaned_dict\n",
    "    except Exception as e:\n",
    "        print(f\"❌ '{recipe_name}' 처리 오류: {e}\")\n",
    "        return None"
   ]
  },
  {
   "cell_type": "code",
   "execution_count": null,
   "id": "16b12032",
   "metadata": {},
   "outputs": [],
   "source": [
    "# 크롤링 도중 \n",
    "recipe_name = \"소세지강정\"\n",
    "ingredient_str = \"['비엔나 소세지 30개', '양파 1개', '캐첩 5큰술', '간장 1스푼']\"\n",
    "\n",
    "cleaned_ingredient = process_single_recipe(recipe_name, ingredient_str)\n",
    "print(cleaned_ingredient)\n"
   ]
  },
  {
   "cell_type": "code",
   "execution_count": null,
   "id": "b1be95e5",
   "metadata": {},
   "outputs": [],
   "source": [
    "# or 크롤링 결과를 df로 쌓을떄 \n",
    "import pandas as pd\n",
    "\n",
    "recipes = []\n",
    "\n",
    "for recipe in crawled_data:  # 크롤링 루프 안에서\n",
    "    cleaned_ing = process_single_recipe(recipe['name'], recipe['ingredient_full'])\n",
    "    recipes.append({\n",
    "        \"recipe_id\": recipe['id'],\n",
    "        \"recipe_nm_ko\": recipe['name'],\n",
    "        \"ingredient_full\": cleaned_ing,  # dict 저장\n",
    "        \"step_text\": recipe['steps']\n",
    "    })\n",
    "\n",
    "df = pd.DataFrame(recipes)\n",
    "df.to_csv(\"recipe_crawled_cleaned.csv\", index=False, encoding=\"utf-8-sig\")\n"
   ]
  }
 ],
 "metadata": {
  "kernelspec": {
   "display_name": "hipython",
   "language": "python",
   "name": "python3"
  },
  "language_info": {
   "codemirror_mode": {
    "name": "ipython",
    "version": 3
   },
   "file_extension": ".py",
   "mimetype": "text/x-python",
   "name": "python",
   "nbconvert_exporter": "python",
   "pygments_lexer": "ipython3",
   "version": "3.12.9"
  }
 },
 "nbformat": 4,
 "nbformat_minor": 5
}
